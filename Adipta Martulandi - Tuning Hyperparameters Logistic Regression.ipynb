{
 "cells": [
  {
   "cell_type": "markdown",
   "metadata": {},
   "source": [
    "## Logisti Regression In Medical Industry - Study Case Heart Disease"
   ]
  },
  {
   "cell_type": "markdown",
   "metadata": {},
   "source": [
    "### Import Library"
   ]
  },
  {
   "cell_type": "code",
   "execution_count": 105,
   "metadata": {},
   "outputs": [],
   "source": [
    "import pandas as pd\n",
    "import numpy as np\n",
    "\n",
    "import matplotlib.pyplot as plt\n",
    "import seaborn as sns\n",
    "\n",
    "from sklearn.linear_model import LogisticRegression\n",
    "from sklearn.metrics import classification_report\n",
    "from sklearn.model_selection import train_test_split\n",
    "from sklearn.metrics import roc_auc_score\n",
    "from sklearn.model_selection import GridSearchCV\n",
    "\n",
    "import warnings\n",
    "warnings.filterwarnings('ignore')"
   ]
  },
  {
   "cell_type": "markdown",
   "metadata": {},
   "source": [
    "### Load Dataset"
   ]
  },
  {
   "cell_type": "code",
   "execution_count": 106,
   "metadata": {},
   "outputs": [],
   "source": [
    "df = pd.read_csv('heart.csv')"
   ]
  },
  {
   "cell_type": "markdown",
   "metadata": {},
   "source": [
    "### Sneak Peak Data"
   ]
  },
  {
   "cell_type": "code",
   "execution_count": 107,
   "metadata": {},
   "outputs": [
    {
     "data": {
      "text/html": [
       "<div>\n",
       "<style scoped>\n",
       "    .dataframe tbody tr th:only-of-type {\n",
       "        vertical-align: middle;\n",
       "    }\n",
       "\n",
       "    .dataframe tbody tr th {\n",
       "        vertical-align: top;\n",
       "    }\n",
       "\n",
       "    .dataframe thead th {\n",
       "        text-align: right;\n",
       "    }\n",
       "</style>\n",
       "<table border=\"1\" class=\"dataframe\">\n",
       "  <thead>\n",
       "    <tr style=\"text-align: right;\">\n",
       "      <th></th>\n",
       "      <th>age</th>\n",
       "      <th>sex</th>\n",
       "      <th>cp</th>\n",
       "      <th>trestbps</th>\n",
       "      <th>chol</th>\n",
       "      <th>fbs</th>\n",
       "      <th>restecg</th>\n",
       "      <th>thalach</th>\n",
       "      <th>exang</th>\n",
       "      <th>oldpeak</th>\n",
       "      <th>slope</th>\n",
       "      <th>ca</th>\n",
       "      <th>thal</th>\n",
       "      <th>target</th>\n",
       "    </tr>\n",
       "  </thead>\n",
       "  <tbody>\n",
       "    <tr>\n",
       "      <th>0</th>\n",
       "      <td>63</td>\n",
       "      <td>1</td>\n",
       "      <td>3</td>\n",
       "      <td>145</td>\n",
       "      <td>233</td>\n",
       "      <td>1</td>\n",
       "      <td>0</td>\n",
       "      <td>150</td>\n",
       "      <td>0</td>\n",
       "      <td>2.3</td>\n",
       "      <td>0</td>\n",
       "      <td>0</td>\n",
       "      <td>1</td>\n",
       "      <td>1</td>\n",
       "    </tr>\n",
       "    <tr>\n",
       "      <th>1</th>\n",
       "      <td>37</td>\n",
       "      <td>1</td>\n",
       "      <td>2</td>\n",
       "      <td>130</td>\n",
       "      <td>250</td>\n",
       "      <td>0</td>\n",
       "      <td>1</td>\n",
       "      <td>187</td>\n",
       "      <td>0</td>\n",
       "      <td>3.5</td>\n",
       "      <td>0</td>\n",
       "      <td>0</td>\n",
       "      <td>2</td>\n",
       "      <td>1</td>\n",
       "    </tr>\n",
       "    <tr>\n",
       "      <th>2</th>\n",
       "      <td>41</td>\n",
       "      <td>0</td>\n",
       "      <td>1</td>\n",
       "      <td>130</td>\n",
       "      <td>204</td>\n",
       "      <td>0</td>\n",
       "      <td>0</td>\n",
       "      <td>172</td>\n",
       "      <td>0</td>\n",
       "      <td>1.4</td>\n",
       "      <td>2</td>\n",
       "      <td>0</td>\n",
       "      <td>2</td>\n",
       "      <td>1</td>\n",
       "    </tr>\n",
       "    <tr>\n",
       "      <th>3</th>\n",
       "      <td>56</td>\n",
       "      <td>1</td>\n",
       "      <td>1</td>\n",
       "      <td>120</td>\n",
       "      <td>236</td>\n",
       "      <td>0</td>\n",
       "      <td>1</td>\n",
       "      <td>178</td>\n",
       "      <td>0</td>\n",
       "      <td>0.8</td>\n",
       "      <td>2</td>\n",
       "      <td>0</td>\n",
       "      <td>2</td>\n",
       "      <td>1</td>\n",
       "    </tr>\n",
       "    <tr>\n",
       "      <th>4</th>\n",
       "      <td>57</td>\n",
       "      <td>0</td>\n",
       "      <td>0</td>\n",
       "      <td>120</td>\n",
       "      <td>354</td>\n",
       "      <td>0</td>\n",
       "      <td>1</td>\n",
       "      <td>163</td>\n",
       "      <td>1</td>\n",
       "      <td>0.6</td>\n",
       "      <td>2</td>\n",
       "      <td>0</td>\n",
       "      <td>2</td>\n",
       "      <td>1</td>\n",
       "    </tr>\n",
       "  </tbody>\n",
       "</table>\n",
       "</div>"
      ],
      "text/plain": [
       "   age  sex  cp  trestbps  chol  fbs  restecg  thalach  exang  oldpeak  slope  \\\n",
       "0   63    1   3       145   233    1        0      150      0      2.3      0   \n",
       "1   37    1   2       130   250    0        1      187      0      3.5      0   \n",
       "2   41    0   1       130   204    0        0      172      0      1.4      2   \n",
       "3   56    1   1       120   236    0        1      178      0      0.8      2   \n",
       "4   57    0   0       120   354    0        1      163      1      0.6      2   \n",
       "\n",
       "   ca  thal  target  \n",
       "0   0     1       1  \n",
       "1   0     2       1  \n",
       "2   0     2       1  \n",
       "3   0     2       1  \n",
       "4   0     2       1  "
      ]
     },
     "execution_count": 107,
     "metadata": {},
     "output_type": "execute_result"
    }
   ],
   "source": [
    "#Melihat 5 data teratas\n",
    "df.head()"
   ]
  },
  {
   "cell_type": "code",
   "execution_count": 108,
   "metadata": {},
   "outputs": [
    {
     "data": {
      "text/html": [
       "<div>\n",
       "<style scoped>\n",
       "    .dataframe tbody tr th:only-of-type {\n",
       "        vertical-align: middle;\n",
       "    }\n",
       "\n",
       "    .dataframe tbody tr th {\n",
       "        vertical-align: top;\n",
       "    }\n",
       "\n",
       "    .dataframe thead th {\n",
       "        text-align: right;\n",
       "    }\n",
       "</style>\n",
       "<table border=\"1\" class=\"dataframe\">\n",
       "  <thead>\n",
       "    <tr style=\"text-align: right;\">\n",
       "      <th></th>\n",
       "      <th>age</th>\n",
       "      <th>sex</th>\n",
       "      <th>cp</th>\n",
       "      <th>trestbps</th>\n",
       "      <th>chol</th>\n",
       "      <th>fbs</th>\n",
       "      <th>restecg</th>\n",
       "      <th>thalach</th>\n",
       "      <th>exang</th>\n",
       "      <th>oldpeak</th>\n",
       "      <th>slope</th>\n",
       "      <th>ca</th>\n",
       "      <th>thal</th>\n",
       "      <th>target</th>\n",
       "    </tr>\n",
       "  </thead>\n",
       "  <tbody>\n",
       "    <tr>\n",
       "      <th>298</th>\n",
       "      <td>57</td>\n",
       "      <td>0</td>\n",
       "      <td>0</td>\n",
       "      <td>140</td>\n",
       "      <td>241</td>\n",
       "      <td>0</td>\n",
       "      <td>1</td>\n",
       "      <td>123</td>\n",
       "      <td>1</td>\n",
       "      <td>0.2</td>\n",
       "      <td>1</td>\n",
       "      <td>0</td>\n",
       "      <td>3</td>\n",
       "      <td>0</td>\n",
       "    </tr>\n",
       "    <tr>\n",
       "      <th>299</th>\n",
       "      <td>45</td>\n",
       "      <td>1</td>\n",
       "      <td>3</td>\n",
       "      <td>110</td>\n",
       "      <td>264</td>\n",
       "      <td>0</td>\n",
       "      <td>1</td>\n",
       "      <td>132</td>\n",
       "      <td>0</td>\n",
       "      <td>1.2</td>\n",
       "      <td>1</td>\n",
       "      <td>0</td>\n",
       "      <td>3</td>\n",
       "      <td>0</td>\n",
       "    </tr>\n",
       "    <tr>\n",
       "      <th>300</th>\n",
       "      <td>68</td>\n",
       "      <td>1</td>\n",
       "      <td>0</td>\n",
       "      <td>144</td>\n",
       "      <td>193</td>\n",
       "      <td>1</td>\n",
       "      <td>1</td>\n",
       "      <td>141</td>\n",
       "      <td>0</td>\n",
       "      <td>3.4</td>\n",
       "      <td>1</td>\n",
       "      <td>2</td>\n",
       "      <td>3</td>\n",
       "      <td>0</td>\n",
       "    </tr>\n",
       "    <tr>\n",
       "      <th>301</th>\n",
       "      <td>57</td>\n",
       "      <td>1</td>\n",
       "      <td>0</td>\n",
       "      <td>130</td>\n",
       "      <td>131</td>\n",
       "      <td>0</td>\n",
       "      <td>1</td>\n",
       "      <td>115</td>\n",
       "      <td>1</td>\n",
       "      <td>1.2</td>\n",
       "      <td>1</td>\n",
       "      <td>1</td>\n",
       "      <td>3</td>\n",
       "      <td>0</td>\n",
       "    </tr>\n",
       "    <tr>\n",
       "      <th>302</th>\n",
       "      <td>57</td>\n",
       "      <td>0</td>\n",
       "      <td>1</td>\n",
       "      <td>130</td>\n",
       "      <td>236</td>\n",
       "      <td>0</td>\n",
       "      <td>0</td>\n",
       "      <td>174</td>\n",
       "      <td>0</td>\n",
       "      <td>0.0</td>\n",
       "      <td>1</td>\n",
       "      <td>1</td>\n",
       "      <td>2</td>\n",
       "      <td>0</td>\n",
       "    </tr>\n",
       "  </tbody>\n",
       "</table>\n",
       "</div>"
      ],
      "text/plain": [
       "     age  sex  cp  trestbps  chol  fbs  restecg  thalach  exang  oldpeak  \\\n",
       "298   57    0   0       140   241    0        1      123      1      0.2   \n",
       "299   45    1   3       110   264    0        1      132      0      1.2   \n",
       "300   68    1   0       144   193    1        1      141      0      3.4   \n",
       "301   57    1   0       130   131    0        1      115      1      1.2   \n",
       "302   57    0   1       130   236    0        0      174      0      0.0   \n",
       "\n",
       "     slope  ca  thal  target  \n",
       "298      1   0     3       0  \n",
       "299      1   0     3       0  \n",
       "300      1   2     3       0  \n",
       "301      1   1     3       0  \n",
       "302      1   1     2       0  "
      ]
     },
     "execution_count": 108,
     "metadata": {},
     "output_type": "execute_result"
    }
   ],
   "source": [
    "#Melihat 5 data terbawah\n",
    "df.tail()"
   ]
  },
  {
   "cell_type": "code",
   "execution_count": 109,
   "metadata": {},
   "outputs": [
    {
     "data": {
      "text/plain": [
       "(303, 14)"
      ]
     },
     "execution_count": 109,
     "metadata": {},
     "output_type": "execute_result"
    }
   ],
   "source": [
    "#Melihat jumlah rows (303) dan jumlah kolom/features (14)\n",
    "df.shape"
   ]
  },
  {
   "cell_type": "code",
   "execution_count": 110,
   "metadata": {},
   "outputs": [
    {
     "name": "stdout",
     "output_type": "stream",
     "text": [
      "<class 'pandas.core.frame.DataFrame'>\n",
      "RangeIndex: 303 entries, 0 to 302\n",
      "Data columns (total 14 columns):\n",
      "age         303 non-null int64\n",
      "sex         303 non-null int64\n",
      "cp          303 non-null int64\n",
      "trestbps    303 non-null int64\n",
      "chol        303 non-null int64\n",
      "fbs         303 non-null int64\n",
      "restecg     303 non-null int64\n",
      "thalach     303 non-null int64\n",
      "exang       303 non-null int64\n",
      "oldpeak     303 non-null float64\n",
      "slope       303 non-null int64\n",
      "ca          303 non-null int64\n",
      "thal        303 non-null int64\n",
      "target      303 non-null int64\n",
      "dtypes: float64(1), int64(13)\n",
      "memory usage: 33.2 KB\n"
     ]
    }
   ],
   "source": [
    "#General information dari data\n",
    "df.info()"
   ]
  },
  {
   "cell_type": "markdown",
   "metadata": {},
   "source": [
    "### Handling Missing Values"
   ]
  },
  {
   "cell_type": "code",
   "execution_count": 111,
   "metadata": {},
   "outputs": [
    {
     "data": {
      "text/plain": [
       "age         0\n",
       "sex         0\n",
       "cp          0\n",
       "trestbps    0\n",
       "chol        0\n",
       "fbs         0\n",
       "restecg     0\n",
       "thalach     0\n",
       "exang       0\n",
       "oldpeak     0\n",
       "slope       0\n",
       "ca          0\n",
       "thal        0\n",
       "target      0\n",
       "dtype: int64"
      ]
     },
     "execution_count": 111,
     "metadata": {},
     "output_type": "execute_result"
    }
   ],
   "source": [
    "#Data sudah clean dan bisa dilanjutkan ke tahap EDA\n",
    "df.isnull().sum()"
   ]
  },
  {
   "cell_type": "markdown",
   "metadata": {},
   "source": [
    "### Exploratory Data Analysis"
   ]
  },
  {
   "cell_type": "code",
   "execution_count": 112,
   "metadata": {},
   "outputs": [
    {
     "data": {
      "text/plain": [
       "<matplotlib.axes._subplots.AxesSubplot at 0x255ec4888d0>"
      ]
     },
     "execution_count": 112,
     "metadata": {},
     "output_type": "execute_result"
    },
    {
     "data": {
      "image/png": "[encoded data removed]",
      "text/plain": [
       "<Figure size 432x288 with 1 Axes>"
      ]
     },
     "metadata": {
      "needs_background": "light"
     },
     "output_type": "display_data"
    }
   ],
   "source": [
    "#Univariate analysis target.\n",
    "sns.countplot(df['target'])"
   ]
  },
  {
   "cell_type": "markdown",
   "metadata": {},
   "source": [
    "- Sepertinya sudah balance karena jumlah nilai 0 dan 1 tidak berbeda jauh.\n",
    "- Nilai 0 untuk Heart Disease.\n",
    "- Nilai 1 untuk No Heart Disease."
   ]
  },
  {
   "cell_type": "code",
   "execution_count": 113,
   "metadata": {},
   "outputs": [
    {
     "data": {
      "text/plain": [
       "<matplotlib.axes._subplots.AxesSubplot at 0x255ec472518>"
      ]
     },
     "execution_count": 113,
     "metadata": {},
     "output_type": "execute_result"
    },
    {
     "data": {
      "image/png": "[encoded data removed]",
      "text/plain": [
       "<Figure size 1440x288 with 2 Axes>"
      ]
     },
     "metadata": {
      "needs_background": "light"
     },
     "output_type": "display_data"
    }
   ],
   "source": [
    "#Univariate analysis age.\n",
    "\n",
    "f = plt.figure(figsize=(20,4))\n",
    "\n",
    "f.add_subplot(1,2,1)\n",
    "sns.distplot(df['age'])\n",
    "\n",
    "f.add_subplot(1,2,2)\n",
    "sns.boxplot(df['age'])"
   ]
  },
  {
   "cell_type": "markdown",
   "metadata": {},
   "source": [
    "- Dari distplot dapat dilihat bahwa density dari data terletak di kisaran angka 50-60 tahun dan sangat jarang pasien yang berumur 30 tahun kebawah atau 80 tahun keatas.\n",
    "- Dari boxplot menunjukan bahwa data tidak memiliki outlier."
   ]
  },
  {
   "cell_type": "code",
   "execution_count": 114,
   "metadata": {},
   "outputs": [
    {
     "data": {
      "text/plain": [
       "<matplotlib.axes._subplots.AxesSubplot at 0x255ec91eda0>"
      ]
     },
     "execution_count": 114,
     "metadata": {},
     "output_type": "execute_result"
    },
    {
     "data": {
      "image/png": "[encoded data removed]",
      "text/plain": [
       "<Figure size 1440x288 with 3 Axes>"
      ]
     },
     "metadata": {
      "needs_background": "light"
     },
     "output_type": "display_data"
    }
   ],
   "source": [
    "#Univariate analysis sex: 1=male; 0=female.\n",
    "#Univariate analysis chest pain type (cp): 0=typical angina; 1=atypical angine; 2=non-anginal pain; 3=asymptomatic\n",
    "#Univariate analysis fasting blood sugar: 1 if > 120 mg/dl; 0 otherwise.\n",
    "\n",
    "f = plt.figure(figsize=(20,4))\n",
    "\n",
    "f.add_subplot(1,3,1)\n",
    "sns.countplot(df['sex'], color='red')\n",
    "\n",
    "f.add_subplot(1,3,2)\n",
    "sns.countplot(df['cp'], color='green')\n",
    "\n",
    "f.add_subplot(1,3,3)\n",
    "sns.countplot(df['fbs'], color='yellow')"
   ]
  },
  {
   "cell_type": "markdown",
   "metadata": {},
   "source": [
    "- Pasien male/laki-laki ternyata memiliki jumlah lebih banyak bahkan 2x lipat dari jumlah pasien female/perempuan.\n",
    "- Paling banyak pasien memiliki tipe cp 0 yaitu typical angine dan paling sedikit bertipe 3 yaitu asymptomatic.\n",
    "- Grafik diatas menunjukan bahwa nilai fasting blood sugar banyak sekali yang dibawah 120 atau bernilai 0."
   ]
  },
  {
   "cell_type": "code",
   "execution_count": 115,
   "metadata": {},
   "outputs": [
    {
     "data": {
      "text/plain": [
       "<matplotlib.axes._subplots.AxesSubplot at 0x255ec546160>"
      ]
     },
     "execution_count": 115,
     "metadata": {},
     "output_type": "execute_result"
    },
    {
     "data": {
      "image/png": "[encoded data removed]",
      "text/plain": [
       "<Figure size 1440x288 with 2 Axes>"
      ]
     },
     "metadata": {
      "needs_background": "light"
     },
     "output_type": "display_data"
    }
   ],
   "source": [
    "#Univariate analysis resting blood pressure (mm Hg) atau trestbps.\n",
    "\n",
    "f = plt.figure(figsize=(20,4))\n",
    "\n",
    "f.add_subplot(1,2,1)\n",
    "sns.distplot(df['trestbps'])\n",
    "\n",
    "f.add_subplot(1,2,2)\n",
    "sns.boxplot(df['trestbps'])"
   ]
  },
  {
   "cell_type": "markdown",
   "metadata": {},
   "source": [
    "- Untuk nilai resting blood pressure atau trestbps paling banyak di angka 120 - 140 mmHg.\n",
    "- Features trestbps memiliki beberapa outlier."
   ]
  },
  {
   "cell_type": "code",
   "execution_count": 116,
   "metadata": {},
   "outputs": [
    {
     "data": {
      "text/plain": [
       "<matplotlib.axes._subplots.AxesSubplot at 0x255ecde3fd0>"
      ]
     },
     "execution_count": 116,
     "metadata": {},
     "output_type": "execute_result"
    },
    {
     "data": {
      "image/png": "[encoded data removed]",
      "text/plain": [
       "<Figure size 1440x288 with 2 Axes>"
      ]
     },
     "metadata": {
      "needs_background": "light"
     },
     "output_type": "display_data"
    }
   ],
   "source": [
    "#Univariate analysis serum cholestrol (mg/dl) atau chol.\n",
    "\n",
    "f = plt.figure(figsize=(20,4))\n",
    "\n",
    "f.add_subplot(1,2,1)\n",
    "sns.distplot(df['chol'])\n",
    "\n",
    "f.add_subplot(1,2,2)\n",
    "sns.boxplot(df['chol'])"
   ]
  },
  {
   "cell_type": "markdown",
   "metadata": {},
   "source": [
    "- Untuk serum cholestrol terpusat di kisaran angka 200-300 mg/dl.\n",
    "- Features chol memiliki beberapa outlier."
   ]
  },
  {
   "cell_type": "code",
   "execution_count": 117,
   "metadata": {},
   "outputs": [
    {
     "data": {
      "text/plain": [
       "<matplotlib.axes._subplots.AxesSubplot at 0x255eca73e80>"
      ]
     },
     "execution_count": 117,
     "metadata": {},
     "output_type": "execute_result"
    },
    {
     "data": {
      "image/png": "[encoded data removed]",
      "text/plain": [
       "<Figure size 1440x288 with 2 Axes>"
      ]
     },
     "metadata": {
      "needs_background": "light"
     },
     "output_type": "display_data"
    }
   ],
   "source": [
    "#Univariate analysis maximum heart rate achieved atau thalach.\n",
    "\n",
    "f = plt.figure(figsize=(20,4))\n",
    "\n",
    "f.add_subplot(1,2,1)\n",
    "sns.distplot(df['thalach'])\n",
    "\n",
    "f.add_subplot(1,2,2)\n",
    "sns.boxplot(df['thalach'])"
   ]
  },
  {
   "cell_type": "markdown",
   "metadata": {},
   "source": [
    "- Distplot menunjukan bahwa nilai dari maxium heart rate atau thalach paling padat di kisaran angka 130 - 175.\n",
    "- Boxpplot menunjukan bahwa ada 1 outlier yang nilainya dibawah 80."
   ]
  },
  {
   "cell_type": "code",
   "execution_count": 118,
   "metadata": {
    "scrolled": true
   },
   "outputs": [
    {
     "data": {
      "text/plain": [
       "<matplotlib.axes._subplots.AxesSubplot at 0x255ecf52c50>"
      ]
     },
     "execution_count": 118,
     "metadata": {},
     "output_type": "execute_result"
    },
    {
     "data": {
      "image/png": "[encoded data removed]",
      "text/plain": [
       "<Figure size 1440x288 with 3 Axes>"
      ]
     },
     "metadata": {
      "needs_background": "light"
     },
     "output_type": "display_data"
    }
   ],
   "source": [
    "#Univariate analysis resting electrocardiographic results atau restecg.\n",
    "#0=normal; 1=having ST-T wave abnormality; 2=showing probable or definite left ventricular hypertrophy.\n",
    "#Univariate analysis exercise induced angina atau exang.\n",
    "# 1=yes; 0=no.\n",
    "#Univariate analysis the slope of the peak exercise ST segment.\n",
    "#0=upsloping; 1=flat; 2=downsloping.\n",
    "\n",
    "f = plt.figure(figsize=(20,4))\n",
    "\n",
    "f.add_subplot(1,3,1)\n",
    "sns.countplot(df['restecg'], color='green')\n",
    "\n",
    "f.add_subplot(1,3,2)\n",
    "sns.countplot(df['exang'], color='red')\n",
    "\n",
    "f.add_subplot(1,3,3)\n",
    "sns.countplot(df['slope'], color='blue')"
   ]
  },
  {
   "cell_type": "markdown",
   "metadata": {},
   "source": [
    "- Dapat dilihat bahwa nilai 0 dan 1 hampir berimbang tetapi untuk nilai 2 pada features restecg sangat sedikit yaitu dibawah 10.\n",
    "- Nilai 0 lebih banyak sekitar 2x lipat dari nilai 1 yang berarti yaitu pasien tidak mengalami induced angine saat exercise lebih banyak daripada yang mengalami induced saat exercise.\n",
    "- Features slope nilai 1 yaitu flat dan 2 yaitu downsloping memiliki nilai yang hampir sama yaitu sekitar 140 dan nilali 0 dimana itu merupakan upsloping mempunyai nilai sangat sedikit yaitu sekitar 20."
   ]
  },
  {
   "cell_type": "code",
   "execution_count": 119,
   "metadata": {},
   "outputs": [
    {
     "data": {
      "text/plain": [
       "<matplotlib.axes._subplots.AxesSubplot at 0x255ed041f60>"
      ]
     },
     "execution_count": 119,
     "metadata": {},
     "output_type": "execute_result"
    },
    {
     "data": {
      "image/png": "[encoded data removed]",
      "text/plain": [
       "<Figure size 1440x288 with 2 Axes>"
      ]
     },
     "metadata": {
      "needs_background": "light"
     },
     "output_type": "display_data"
    }
   ],
   "source": [
    "#Univariate analysis ST depression induced by exercise relative to rest.\n",
    "\n",
    "f = plt.figure(figsize=(20,4))\n",
    "\n",
    "f.add_subplot(1,2,1)\n",
    "sns.distplot(df['oldpeak'])\n",
    "\n",
    "f.add_subplot(1,2,2)\n",
    "sns.boxplot(df['oldpeak'])"
   ]
  },
  {
   "cell_type": "markdown",
   "metadata": {},
   "source": [
    "- Dari distplot dapat dilihat bahwa features oldpeak terpusat di angka 0.\n",
    "- Features oldpeak memiliki beberapa outlier diatas nilai 4."
   ]
  },
  {
   "cell_type": "code",
   "execution_count": 120,
   "metadata": {},
   "outputs": [
    {
     "data": {
      "text/plain": [
       "<matplotlib.axes._subplots.AxesSubplot at 0x255ed401668>"
      ]
     },
     "execution_count": 120,
     "metadata": {},
     "output_type": "execute_result"
    },
    {
     "data": {
      "image/png": "[encoded data removed]",
      "text/plain": [
       "<Figure size 1440x288 with 2 Axes>"
      ]
     },
     "metadata": {
      "needs_background": "light"
     },
     "output_type": "display_data"
    }
   ],
   "source": [
    "#Univariate analysis ca number of major vessels (0-3) colored by flourosopy.\n",
    "#Univariate analysis thal.\n",
    "\n",
    "f = plt.figure(figsize=(20,4))\n",
    "\n",
    "f.add_subplot(1,2,1)\n",
    "df['ca'].value_counts().plot('bar', color='red')\n",
    "\n",
    "f.add_subplot(1,2,2)\n",
    "df['thal'].value_counts().plot('bar', color='green')"
   ]
  },
  {
   "cell_type": "markdown",
   "metadata": {},
   "source": [
    "- Untuk features ca, nilai paling banyak adalah 0 yang memiliki jumlah major vessels sebanyak 0 dan paling sedikit adalah 4.\n",
    "- Sedangkan untuk features thal sebagian besar di nilai 2 dan paling sedikit adalah nilai 0."
   ]
  },
  {
   "cell_type": "code",
   "execution_count": 121,
   "metadata": {},
   "outputs": [
    {
     "data": {
      "text/html": [
       "<style  type=\"text/css\" >\n",
       "    #T_bee91a68_e72a_11e9_b8a4_309c23131503row0_col0 {\n",
       "            background-color:  #023858;\n",
       "            color:  #f1f1f1;\n",
       "        }    #T_bee91a68_e72a_11e9_b8a4_309c23131503row0_col1 {\n",
       "            background-color:  #e8e4f0;\n",
       "            color:  #000000;\n",
       "        }    #T_bee91a68_e72a_11e9_b8a4_309c23131503row0_col2 {\n",
       "            background-color:  #d4d4e8;\n",
       "            color:  #000000;\n",
       "        }    #T_bee91a68_e72a_11e9_b8a4_309c23131503row0_col3 {\n",
       "            background-color:  #a8bedc;\n",
       "            color:  #000000;\n",
       "        }    #T_bee91a68_e72a_11e9_b8a4_309c23131503row0_col4 {\n",
       "            background-color:  #b1c2de;\n",
       "            color:  #000000;\n",
       "        }    #T_bee91a68_e72a_11e9_b8a4_309c23131503row0_col5 {\n",
       "            background-color:  #dedcec;\n",
       "            color:  #000000;\n",
       "        }    #T_bee91a68_e72a_11e9_b8a4_309c23131503row0_col6 {\n",
       "            background-color:  #fbf3f9;\n",
       "            color:  #000000;\n",
       "        }    #T_bee91a68_e72a_11e9_b8a4_309c23131503row0_col7 {\n",
       "            background-color:  #fff7fb;\n",
       "            color:  #000000;\n",
       "        }    #T_bee91a68_e72a_11e9_b8a4_309c23131503row0_col8 {\n",
       "            background-color:  #a7bddb;\n",
       "            color:  #000000;\n",
       "        }    #T_bee91a68_e72a_11e9_b8a4_309c23131503row0_col9 {\n",
       "            background-color:  #75a9cf;\n",
       "            color:  #000000;\n",
       "        }    #T_bee91a68_e72a_11e9_b8a4_309c23131503row0_col10 {\n",
       "            background-color:  #cdd0e5;\n",
       "            color:  #000000;\n",
       "        }    #T_bee91a68_e72a_11e9_b8a4_309c23131503row0_col11 {\n",
       "            background-color:  #7dacd1;\n",
       "            color:  #000000;\n",
       "        }    #T_bee91a68_e72a_11e9_b8a4_309c23131503row0_col12 {\n",
       "            background-color:  #bdc8e1;\n",
       "            color:  #000000;\n",
       "        }    #T_bee91a68_e72a_11e9_b8a4_309c23131503row0_col13 {\n",
       "            background-color:  #e7e3f0;\n",
       "            color:  #000000;\n",
       "        }    #T_bee91a68_e72a_11e9_b8a4_309c23131503row1_col0 {\n",
       "            background-color:  #d9d8ea;\n",
       "            color:  #000000;\n",
       "        }    #T_bee91a68_e72a_11e9_b8a4_309c23131503row1_col1 {\n",
       "            background-color:  #023858;\n",
       "            color:  #f1f1f1;\n",
       "        }    #T_bee91a68_e72a_11e9_b8a4_309c23131503row1_col2 {\n",
       "            background-color:  #d1d2e6;\n",
       "            color:  #000000;\n",
       "        }    #T_bee91a68_e72a_11e9_b8a4_309c23131503row1_col3 {\n",
       "            background-color:  #f4edf6;\n",
       "            color:  #000000;\n",
       "        }    #T_bee91a68_e72a_11e9_b8a4_309c23131503row1_col4 {\n",
       "            background-color:  #fff7fb;\n",
       "            color:  #000000;\n",
       "        }    #T_bee91a68_e72a_11e9_b8a4_309c23131503row1_col5 {\n",
       "            background-color:  #ede8f3;\n",
       "            color:  #000000;\n",
       "        }    #T_bee91a68_e72a_11e9_b8a4_309c23131503row1_col6 {\n",
       "            background-color:  #f3edf5;\n",
       "            color:  #000000;\n",
       "        }    #T_bee91a68_e72a_11e9_b8a4_309c23131503row1_col7 {\n",
       "            background-color:  #d0d1e6;\n",
       "            color:  #000000;\n",
       "        }    #T_bee91a68_e72a_11e9_b8a4_309c23131503row1_col8 {\n",
       "            background-color:  #9ab8d8;\n",
       "            color:  #000000;\n",
       "        }    #T_bee91a68_e72a_11e9_b8a4_309c23131503row1_col9 {\n",
       "            background-color:  #91b5d6;\n",
       "            color:  #000000;\n",
       "        }    #T_bee91a68_e72a_11e9_b8a4_309c23131503row1_col10 {\n",
       "            background-color:  #b0c2de;\n",
       "            color:  #000000;\n",
       "        }    #T_bee91a68_e72a_11e9_b8a4_309c23131503row1_col11 {\n",
       "            background-color:  #a9bfdc;\n",
       "            color:  #000000;\n",
       "        }    #T_bee91a68_e72a_11e9_b8a4_309c23131503row1_col12 {\n",
       "            background-color:  #97b7d7;\n",
       "            color:  #000000;\n",
       "        }    #T_bee91a68_e72a_11e9_b8a4_309c23131503row1_col13 {\n",
       "            background-color:  #efe9f3;\n",
       "            color:  #000000;\n",
       "        }    #T_bee91a68_e72a_11e9_b8a4_309c23131503row2_col0 {\n",
       "            background-color:  #d3d4e7;\n",
       "            color:  #000000;\n",
       "        }    #T_bee91a68_e72a_11e9_b8a4_309c23131503row2_col1 {\n",
       "            background-color:  #e0dded;\n",
       "            color:  #000000;\n",
       "        }    #T_bee91a68_e72a_11e9_b8a4_309c23131503row2_col2 {\n",
       "            background-color:  #023858;\n",
       "            color:  #f1f1f1;\n",
       "        }    #T_bee91a68_e72a_11e9_b8a4_309c23131503row2_col3 {\n",
       "            background-color:  #e2dfee;\n",
       "            color:  #000000;\n",
       "        }    #T_bee91a68_e72a_11e9_b8a4_309c23131503row2_col4 {\n",
       "            background-color:  #f0eaf4;\n",
       "            color:  #000000;\n",
       "        }    #T_bee91a68_e72a_11e9_b8a4_309c23131503row2_col5 {\n",
       "            background-color:  #e3e0ee;\n",
       "            color:  #000000;\n",
       "        }    #T_bee91a68_e72a_11e9_b8a4_309c23131503row2_col6 {\n",
       "            background-color:  #e2dfee;\n",
       "            color:  #000000;\n",
       "        }    #T_bee91a68_e72a_11e9_b8a4_309c23131503row2_col7 {\n",
       "            background-color:  #75a9cf;\n",
       "            color:  #000000;\n",
       "        }    #T_bee91a68_e72a_11e9_b8a4_309c23131503row2_col8 {\n",
       "            background-color:  #fbf3f9;\n",
       "            color:  #000000;\n",
       "        }    #T_bee91a68_e72a_11e9_b8a4_309c23131503row2_col9 {\n",
       "            background-color:  #c9cee4;\n",
       "            color:  #000000;\n",
       "        }    #T_bee91a68_e72a_11e9_b8a4_309c23131503row2_col10 {\n",
       "            background-color:  #8bb2d4;\n",
       "            color:  #000000;\n",
       "        }    #T_bee91a68_e72a_11e9_b8a4_309c23131503row2_col11 {\n",
       "            background-color:  #e7e3f0;\n",
       "            color:  #000000;\n",
       "        }    #T_bee91a68_e72a_11e9_b8a4_309c23131503row2_col12 {\n",
       "            background-color:  #eae6f1;\n",
       "            color:  #000000;\n",
       "        }    #T_bee91a68_e72a_11e9_b8a4_309c23131503row2_col13 {\n",
       "            background-color:  #3f93c2;\n",
       "            color:  #000000;\n",
       "        }    #T_bee91a68_e72a_11e9_b8a4_309c23131503row3_col0 {\n",
       "            background-color:  #79abd0;\n",
       "            color:  #000000;\n",
       "        }    #T_bee91a68_e72a_11e9_b8a4_309c23131503row3_col1 {\n",
       "            background-color:  #e1dfed;\n",
       "            color:  #000000;\n",
       "        }    #T_bee91a68_e72a_11e9_b8a4_309c23131503row3_col2 {\n",
       "            background-color:  #b9c6e0;\n",
       "            color:  #000000;\n",
       "        }    #T_bee91a68_e72a_11e9_b8a4_309c23131503row3_col3 {\n",
       "            background-color:  #023858;\n",
       "            color:  #f1f1f1;\n",
       "        }    #T_bee91a68_e72a_11e9_b8a4_309c23131503row3_col4 {\n",
       "            background-color:  #cacee5;\n",
       "            color:  #000000;\n",
       "        }    #T_bee91a68_e72a_11e9_b8a4_309c23131503row3_col5 {\n",
       "            background-color:  #d2d3e7;\n",
       "            color:  #000000;\n",
       "        }    #T_bee91a68_e72a_11e9_b8a4_309c23131503row3_col6 {\n",
       "            background-color:  #faf3f9;\n",
       "            color:  #000000;\n",
       "        }    #T_bee91a68_e72a_11e9_b8a4_309c23131503row3_col7 {\n",
       "            background-color:  #d0d1e6;\n",
       "            color:  #000000;\n",
       "        }    #T_bee91a68_e72a_11e9_b8a4_309c23131503row3_col8 {\n",
       "            background-color:  #afc1dd;\n",
       "            color:  #000000;\n",
       "        }    #T_bee91a68_e72a_11e9_b8a4_309c23131503row3_col9 {\n",
       "            background-color:  #78abd0;\n",
       "            color:  #000000;\n",
       "        }    #T_bee91a68_e72a_11e9_b8a4_309c23131503row3_col10 {\n",
       "            background-color:  #c2cbe2;\n",
       "            color:  #000000;\n",
       "        }    #T_bee91a68_e72a_11e9_b8a4_309c23131503row3_col11 {\n",
       "            background-color:  #adc1dd;\n",
       "            color:  #000000;\n",
       "        }    #T_bee91a68_e72a_11e9_b8a4_309c23131503row3_col12 {\n",
       "            background-color:  #bfc9e1;\n",
       "            color:  #000000;\n",
       "        }    #T_bee91a68_e72a_11e9_b8a4_309c23131503row3_col13 {\n",
       "            background-color:  #dbdaeb;\n",
       "            color:  #000000;\n",
       "        }    #T_bee91a68_e72a_11e9_b8a4_309c23131503row4_col0 {\n",
       "            background-color:  #8cb3d5;\n",
       "            color:  #000000;\n",
       "        }    #T_bee91a68_e72a_11e9_b8a4_309c23131503row4_col1 {\n",
       "            background-color:  #f5eff6;\n",
       "            color:  #000000;\n",
       "        }    #T_bee91a68_e72a_11e9_b8a4_309c23131503row4_col2 {\n",
       "            background-color:  #d5d5e8;\n",
       "            color:  #000000;\n",
       "        }    #T_bee91a68_e72a_11e9_b8a4_309c23131503row4_col3 {\n",
       "            background-color:  #d4d4e8;\n",
       "            color:  #000000;\n",
       "        }    #T_bee91a68_e72a_11e9_b8a4_309c23131503row4_col4 {\n",
       "            background-color:  #023858;\n",
       "            color:  #f1f1f1;\n",
       "        }    #T_bee91a68_e72a_11e9_b8a4_309c23131503row4_col5 {\n",
       "            background-color:  #f1ebf5;\n",
       "            color:  #000000;\n",
       "        }    #T_bee91a68_e72a_11e9_b8a4_309c23131503row4_col6 {\n",
       "            background-color:  #fff7fb;\n",
       "            color:  #000000;\n",
       "        }    #T_bee91a68_e72a_11e9_b8a4_309c23131503row4_col7 {\n",
       "            background-color:  #c6cce3;\n",
       "            color:  #000000;\n",
       "        }    #T_bee91a68_e72a_11e9_b8a4_309c23131503row4_col8 {\n",
       "            background-color:  #afc1dd;\n",
       "            color:  #000000;\n",
       "        }    #T_bee91a68_e72a_11e9_b8a4_309c23131503row4_col9 {\n",
       "            background-color:  #9cb9d9;\n",
       "            color:  #000000;\n",
       "        }    #T_bee91a68_e72a_11e9_b8a4_309c23131503row4_col10 {\n",
       "            background-color:  #a9bfdc;\n",
       "            color:  #000000;\n",
       "        }    #T_bee91a68_e72a_11e9_b8a4_309c23131503row4_col11 {\n",
       "            background-color:  #b4c4df;\n",
       "            color:  #000000;\n",
       "        }    #T_bee91a68_e72a_11e9_b8a4_309c23131503row4_col12 {\n",
       "            background-color:  #b5c4df;\n",
       "            color:  #000000;\n",
       "        }    #T_bee91a68_e72a_11e9_b8a4_309c23131503row4_col13 {\n",
       "            background-color:  #d2d2e7;\n",
       "            color:  #000000;\n",
       "        }    #T_bee91a68_e72a_11e9_b8a4_309c23131503row5_col0 {\n",
       "            background-color:  #a7bddb;\n",
       "            color:  #000000;\n",
       "        }    #T_bee91a68_e72a_11e9_b8a4_309c23131503row5_col1 {\n",
       "            background-color:  #ced0e6;\n",
       "            color:  #000000;\n",
       "        }    #T_bee91a68_e72a_11e9_b8a4_309c23131503row5_col2 {\n",
       "            background-color:  #afc1dd;\n",
       "            color:  #000000;\n",
       "        }    #T_bee91a68_e72a_11e9_b8a4_309c23131503row5_col3 {\n",
       "            background-color:  #c5cce3;\n",
       "            color:  #000000;\n",
       "        }    #T_bee91a68_e72a_11e9_b8a4_309c23131503row5_col4 {\n",
       "            background-color:  #e0deed;\n",
       "            color:  #000000;\n",
       "        }    #T_bee91a68_e72a_11e9_b8a4_309c23131503row5_col5 {\n",
       "            background-color:  #023858;\n",
       "            color:  #f1f1f1;\n",
       "        }    #T_bee91a68_e72a_11e9_b8a4_309c23131503row5_col6 {\n",
       "            background-color:  #f7f0f7;\n",
       "            color:  #000000;\n",
       "        }    #T_bee91a68_e72a_11e9_b8a4_309c23131503row5_col7 {\n",
       "            background-color:  #c6cce3;\n",
       "            color:  #000000;\n",
       "        }    #T_bee91a68_e72a_11e9_b8a4_309c23131503row5_col8 {\n",
       "            background-color:  #b8c6e0;\n",
       "            color:  #000000;\n",
       "        }    #T_bee91a68_e72a_11e9_b8a4_309c23131503row5_col9 {\n",
       "            background-color:  #a8bedc;\n",
       "            color:  #000000;\n",
       "        }    #T_bee91a68_e72a_11e9_b8a4_309c23131503row5_col10 {\n",
       "            background-color:  #b5c4df;\n",
       "            color:  #000000;\n",
       "        }    #T_bee91a68_e72a_11e9_b8a4_309c23131503row5_col11 {\n",
       "            background-color:  #a4bcda;\n",
       "            color:  #000000;\n",
       "        }    #T_bee91a68_e72a_11e9_b8a4_309c23131503row5_col12 {\n",
       "            background-color:  #d4d4e8;\n",
       "            color:  #000000;\n",
       "        }    #T_bee91a68_e72a_11e9_b8a4_309c23131503row5_col13 {\n",
       "            background-color:  #c5cce3;\n",
       "            color:  #000000;\n",
       "        }    #T_bee91a68_e72a_11e9_b8a4_309c23131503row6_col0 {\n",
       "            background-color:  #dbdaeb;\n",
       "            color:  #000000;\n",
       "        }    #T_bee91a68_e72a_11e9_b8a4_309c23131503row6_col1 {\n",
       "            background-color:  #e1dfed;\n",
       "            color:  #000000;\n",
       "        }    #T_bee91a68_e72a_11e9_b8a4_309c23131503row6_col2 {\n",
       "            background-color:  #bbc7e0;\n",
       "            color:  #000000;\n",
       "        }    #T_bee91a68_e72a_11e9_b8a4_309c23131503row6_col3 {\n",
       "            background-color:  #fbf4f9;\n",
       "            color:  #000000;\n",
       "        }    #T_bee91a68_e72a_11e9_b8a4_309c23131503row6_col4 {\n",
       "            background-color:  #f9f2f8;\n",
       "            color:  #000000;\n",
       "        }    #T_bee91a68_e72a_11e9_b8a4_309c23131503row6_col5 {\n",
       "            background-color:  #fff7fb;\n",
       "            color:  #000000;\n",
       "        }    #T_bee91a68_e72a_11e9_b8a4_309c23131503row6_col6 {\n",
       "            background-color:  #023858;\n",
       "            color:  #f1f1f1;\n",
       "        }    #T_bee91a68_e72a_11e9_b8a4_309c23131503row6_col7 {\n",
       "            background-color:  #b9c6e0;\n",
       "            color:  #000000;\n",
       "        }    #T_bee91a68_e72a_11e9_b8a4_309c23131503row6_col8 {\n",
       "            background-color:  #ced0e6;\n",
       "            color:  #000000;\n",
       "        }    #T_bee91a68_e72a_11e9_b8a4_309c23131503row6_col9 {\n",
       "            background-color:  #b5c4df;\n",
       "            color:  #000000;\n",
       "        }    #T_bee91a68_e72a_11e9_b8a4_309c23131503row6_col10 {\n",
       "            background-color:  #93b5d6;\n",
       "            color:  #000000;\n",
       "        }    #T_bee91a68_e72a_11e9_b8a4_309c23131503row6_col11 {\n",
       "            background-color:  #d5d5e8;\n",
       "            color:  #000000;\n",
       "        }    #T_bee91a68_e72a_11e9_b8a4_309c23131503row6_col12 {\n",
       "            background-color:  #d1d2e6;\n",
       "            color:  #000000;\n",
       "        }    #T_bee91a68_e72a_11e9_b8a4_309c23131503row6_col13 {\n",
       "            background-color:  #9cb9d9;\n",
       "            color:  #000000;\n",
       "        }    #T_bee91a68_e72a_11e9_b8a4_309c23131503row7_col0 {\n",
       "            background-color:  #fff7fb;\n",
       "            color:  #000000;\n",
       "        }    #T_bee91a68_e72a_11e9_b8a4_309c23131503row7_col1 {\n",
       "            background-color:  #dfddec;\n",
       "            color:  #000000;\n",
       "        }    #T_bee91a68_e72a_11e9_b8a4_309c23131503row7_col2 {\n",
       "            background-color:  #76aad0;\n",
       "            color:  #000000;\n",
       "        }    #T_bee91a68_e72a_11e9_b8a4_309c23131503row7_col3 {\n",
       "            background-color:  #f2ecf5;\n",
       "            color:  #000000;\n",
       "        }    #T_bee91a68_e72a_11e9_b8a4_309c23131503row7_col4 {\n",
       "            background-color:  #e5e1ef;\n",
       "            color:  #000000;\n",
       "        }    #T_bee91a68_e72a_11e9_b8a4_309c23131503row7_col5 {\n",
       "            background-color:  #f5eef6;\n",
       "            color:  #000000;\n",
       "        }    #T_bee91a68_e72a_11e9_b8a4_309c23131503row7_col6 {\n",
       "            background-color:  #e2dfee;\n",
       "            color:  #000000;\n",
       "        }    #T_bee91a68_e72a_11e9_b8a4_309c23131503row7_col7 {\n",
       "            background-color:  #023858;\n",
       "            color:  #f1f1f1;\n",
       "        }    #T_bee91a68_e72a_11e9_b8a4_309c23131503row7_col8 {\n",
       "            background-color:  #f9f2f8;\n",
       "            color:  #000000;\n",
       "        }    #T_bee91a68_e72a_11e9_b8a4_309c23131503row7_col9 {\n",
       "            background-color:  #e7e3f0;\n",
       "            color:  #000000;\n",
       "        }    #T_bee91a68_e72a_11e9_b8a4_309c23131503row7_col10 {\n",
       "            background-color:  #3d93c2;\n",
       "            color:  #000000;\n",
       "        }    #T_bee91a68_e72a_11e9_b8a4_309c23131503row7_col11 {\n",
       "            background-color:  #ece7f2;\n",
       "            color:  #000000;\n",
       "        }    #T_bee91a68_e72a_11e9_b8a4_309c23131503row7_col12 {\n",
       "            background-color:  #dfddec;\n",
       "            color:  #000000;\n",
       "        }    #T_bee91a68_e72a_11e9_b8a4_309c23131503row7_col13 {\n",
       "            background-color:  #4496c3;\n",
       "            color:  #000000;\n",
       "        }    #T_bee91a68_e72a_11e9_b8a4_309c23131503row8_col0 {\n",
       "            background-color:  #adc1dd;\n",
       "            color:  #000000;\n",
       "        }    #T_bee91a68_e72a_11e9_b8a4_309c23131503row8_col1 {\n",
       "            background-color:  #b5c4df;\n",
       "            color:  #000000;\n",
       "        }    #T_bee91a68_e72a_11e9_b8a4_309c23131503row8_col2 {\n",
       "            background-color:  #fff7fb;\n",
       "            color:  #000000;\n",
       "        }    #T_bee91a68_e72a_11e9_b8a4_309c23131503row8_col3 {\n",
       "            background-color:  #dfddec;\n",
       "            color:  #000000;\n",
       "        }    #T_bee91a68_e72a_11e9_b8a4_309c23131503row8_col4 {\n",
       "            background-color:  #d7d6e9;\n",
       "            color:  #000000;\n",
       "        }    #T_bee91a68_e72a_11e9_b8a4_309c23131503row8_col5 {\n",
       "            background-color:  #f0eaf4;\n",
       "            color:  #000000;\n",
       "        }    #T_bee91a68_e72a_11e9_b8a4_309c23131503row8_col6 {\n",
       "            background-color:  #f5eef6;\n",
       "            color:  #000000;\n",
       "        }    #T_bee91a68_e72a_11e9_b8a4_309c23131503row8_col7 {\n",
       "            background-color:  #fdf5fa;\n",
       "            color:  #000000;\n",
       "        }    #T_bee91a68_e72a_11e9_b8a4_309c23131503row8_col8 {\n",
       "            background-color:  #023858;\n",
       "            color:  #f1f1f1;\n",
       "        }    #T_bee91a68_e72a_11e9_b8a4_309c23131503row8_col9 {\n",
       "            background-color:  #5c9fc9;\n",
       "            color:  #000000;\n",
       "        }    #T_bee91a68_e72a_11e9_b8a4_309c23131503row8_col10 {\n",
       "            background-color:  #dbdaeb;\n",
       "            color:  #000000;\n",
       "        }    #T_bee91a68_e72a_11e9_b8a4_309c23131503row8_col11 {\n",
       "            background-color:  #a9bfdc;\n",
       "            color:  #000000;\n",
       "        }    #T_bee91a68_e72a_11e9_b8a4_309c23131503row8_col12 {\n",
       "            background-color:  #99b8d8;\n",
       "            color:  #000000;\n",
       "        }    #T_bee91a68_e72a_11e9_b8a4_309c23131503row8_col13 {\n",
       "            background-color:  #fff7fb;\n",
       "            color:  #000000;\n",
       "        }    #T_bee91a68_e72a_11e9_b8a4_309c23131503row9_col0 {\n",
       "            background-color:  #8eb3d5;\n",
       "            color:  #000000;\n",
       "        }    #T_bee91a68_e72a_11e9_b8a4_309c23131503row9_col1 {\n",
       "            background-color:  #c1cae2;\n",
       "            color:  #000000;\n",
       "        }    #T_bee91a68_e72a_11e9_b8a4_309c23131503row9_col2 {\n",
       "            background-color:  #e1dfed;\n",
       "            color:  #000000;\n",
       "        }    #T_bee91a68_e72a_11e9_b8a4_309c23131503row9_col3 {\n",
       "            background-color:  #c1cae2;\n",
       "            color:  #000000;\n",
       "        }    #T_bee91a68_e72a_11e9_b8a4_309c23131503row9_col4 {\n",
       "            background-color:  #d9d8ea;\n",
       "            color:  #000000;\n",
       "        }    #T_bee91a68_e72a_11e9_b8a4_309c23131503row9_col5 {\n",
       "            background-color:  #f2ecf5;\n",
       "            color:  #000000;\n",
       "        }    #T_bee91a68_e72a_11e9_b8a4_309c23131503row9_col6 {\n",
       "            background-color:  #f3edf5;\n",
       "            color:  #000000;\n",
       "        }    #T_bee91a68_e72a_11e9_b8a4_309c23131503row9_col7 {\n",
       "            background-color:  #faf2f8;\n",
       "            color:  #000000;\n",
       "        }    #T_bee91a68_e72a_11e9_b8a4_309c23131503row9_col8 {\n",
       "            background-color:  #71a8ce;\n",
       "            color:  #000000;\n",
       "        }    #T_bee91a68_e72a_11e9_b8a4_309c23131503row9_col9 {\n",
       "            background-color:  #023858;\n",
       "            color:  #f1f1f1;\n",
       "        }    #T_bee91a68_e72a_11e9_b8a4_309c23131503row9_col10 {\n",
       "            background-color:  #fff7fb;\n",
       "            color:  #000000;\n",
       "        }    #T_bee91a68_e72a_11e9_b8a4_309c23131503row9_col11 {\n",
       "            background-color:  #8bb2d4;\n",
       "            color:  #000000;\n",
       "        }    #T_bee91a68_e72a_11e9_b8a4_309c23131503row9_col12 {\n",
       "            background-color:  #97b7d7;\n",
       "            color:  #000000;\n",
       "        }    #T_bee91a68_e72a_11e9_b8a4_309c23131503row9_col13 {\n",
       "            background-color:  #fef6fb;\n",
       "            color:  #000000;\n",
       "        }    #T_bee91a68_e72a_11e9_b8a4_309c23131503row10_col0 {\n",
       "            background-color:  #e3e0ee;\n",
       "            color:  #000000;\n",
       "        }    #T_bee91a68_e72a_11e9_b8a4_309c23131503row10_col1 {\n",
       "            background-color:  #dcdaeb;\n",
       "            color:  #000000;\n",
       "        }    #T_bee91a68_e72a_11e9_b8a4_309c23131503row10_col2 {\n",
       "            background-color:  #a8bedc;\n",
       "            color:  #000000;\n",
       "        }    #T_bee91a68_e72a_11e9_b8a4_309c23131503row10_col3 {\n",
       "            background-color:  #fcf4fa;\n",
       "            color:  #000000;\n",
       "        }    #T_bee91a68_e72a_11e9_b8a4_309c23131503row10_col4 {\n",
       "            background-color:  #e4e1ef;\n",
       "            color:  #000000;\n",
       "        }    #T_bee91a68_e72a_11e9_b8a4_309c23131503row10_col5 {\n",
       "            background-color:  #fcf4fa;\n",
       "            color:  #000000;\n",
       "        }    #T_bee91a68_e72a_11e9_b8a4_309c23131503row10_col6 {\n",
       "            background-color:  #d9d8ea;\n",
       "            color:  #000000;\n",
       "        }    #T_bee91a68_e72a_11e9_b8a4_309c23131503row10_col7 {\n",
       "            background-color:  #569dc8;\n",
       "            color:  #000000;\n",
       "        }    #T_bee91a68_e72a_11e9_b8a4_309c23131503row10_col8 {\n",
       "            background-color:  #ede7f2;\n",
       "            color:  #000000;\n",
       "        }    #T_bee91a68_e72a_11e9_b8a4_309c23131503row10_col9 {\n",
       "            background-color:  #fff7fb;\n",
       "            color:  #000000;\n",
       "        }    #T_bee91a68_e72a_11e9_b8a4_309c23131503row10_col10 {\n",
       "            background-color:  #023858;\n",
       "            color:  #f1f1f1;\n",
       "        }    #T_bee91a68_e72a_11e9_b8a4_309c23131503row10_col11 {\n",
       "            background-color:  #d6d6e9;\n",
       "            color:  #000000;\n",
       "        }    #T_bee91a68_e72a_11e9_b8a4_309c23131503row10_col12 {\n",
       "            background-color:  #e0deed;\n",
       "            color:  #000000;\n",
       "        }    #T_bee91a68_e72a_11e9_b8a4_309c23131503row10_col13 {\n",
       "            background-color:  #5ea0ca;\n",
       "            color:  #000000;\n",
       "        }    #T_bee91a68_e72a_11e9_b8a4_309c23131503row11_col0 {\n",
       "            background-color:  #7bacd1;\n",
       "            color:  #000000;\n",
       "        }    #T_bee91a68_e72a_11e9_b8a4_309c23131503row11_col1 {\n",
       "            background-color:  #bcc7e1;\n",
       "            color:  #000000;\n",
       "        }    #T_bee91a68_e72a_11e9_b8a4_309c23131503row11_col2 {\n",
       "            background-color:  #e6e2ef;\n",
       "            color:  #000000;\n",
       "        }    #T_bee91a68_e72a_11e9_b8a4_309c23131503row11_col3 {\n",
       "            background-color:  #d8d7e9;\n",
       "            color:  #000000;\n",
       "        }    #T_bee91a68_e72a_11e9_b8a4_309c23131503row11_col4 {\n",
       "            background-color:  #d6d6e9;\n",
       "            color:  #000000;\n",
       "        }    #T_bee91a68_e72a_11e9_b8a4_309c23131503row11_col5 {\n",
       "            background-color:  #dad9ea;\n",
       "            color:  #000000;\n",
       "        }    #T_bee91a68_e72a_11e9_b8a4_309c23131503row11_col6 {\n",
       "            background-color:  #f5eef6;\n",
       "            color:  #000000;\n",
       "        }    #T_bee91a68_e72a_11e9_b8a4_309c23131503row11_col7 {\n",
       "            background-color:  #ebe6f2;\n",
       "            color:  #000000;\n",
       "        }    #T_bee91a68_e72a_11e9_b8a4_309c23131503row11_col8 {\n",
       "            background-color:  #a2bcda;\n",
       "            color:  #000000;\n",
       "        }    #T_bee91a68_e72a_11e9_b8a4_309c23131503row11_col9 {\n",
       "            background-color:  #71a8ce;\n",
       "            color:  #000000;\n",
       "        }    #T_bee91a68_e72a_11e9_b8a4_309c23131503row11_col10 {\n",
       "            background-color:  #bbc7e0;\n",
       "            color:  #000000;\n",
       "        }    #T_bee91a68_e72a_11e9_b8a4_309c23131503row11_col11 {\n",
       "            background-color:  #023858;\n",
       "            color:  #f1f1f1;\n",
       "        }    #T_bee91a68_e72a_11e9_b8a4_309c23131503row11_col12 {\n",
       "            background-color:  #a8bedc;\n",
       "            color:  #000000;\n",
       "        }    #T_bee91a68_e72a_11e9_b8a4_309c23131503row11_col13 {\n",
       "            background-color:  #faf3f9;\n",
       "            color:  #000000;\n",
       "        }    #T_bee91a68_e72a_11e9_b8a4_309c23131503row12_col0 {\n",
       "            background-color:  #b4c4df;\n",
       "            color:  #000000;\n",
       "        }    #T_bee91a68_e72a_11e9_b8a4_309c23131503row12_col1 {\n",
       "            background-color:  #a2bcda;\n",
       "            color:  #000000;\n",
       "        }    #T_bee91a68_e72a_11e9_b8a4_309c23131503row12_col2 {\n",
       "            background-color:  #e3e0ee;\n",
       "            color:  #000000;\n",
       "        }    #T_bee91a68_e72a_11e9_b8a4_309c23131503row12_col3 {\n",
       "            background-color:  #e0dded;\n",
       "            color:  #000000;\n",
       "        }    #T_bee91a68_e72a_11e9_b8a4_309c23131503row12_col4 {\n",
       "            background-color:  #d1d2e6;\n",
       "            color:  #000000;\n",
       "        }    #T_bee91a68_e72a_11e9_b8a4_309c23131503row12_col5 {\n",
       "            background-color:  #f8f1f8;\n",
       "            color:  #000000;\n",
       "        }    #T_bee91a68_e72a_11e9_b8a4_309c23131503row12_col6 {\n",
       "            background-color:  #ede8f3;\n",
       "            color:  #000000;\n",
       "        }    #T_bee91a68_e72a_11e9_b8a4_309c23131503row12_col7 {\n",
       "            background-color:  #d8d7e9;\n",
       "            color:  #000000;\n",
       "        }    #T_bee91a68_e72a_11e9_b8a4_309c23131503row12_col8 {\n",
       "            background-color:  #89b1d4;\n",
       "            color:  #000000;\n",
       "        }    #T_bee91a68_e72a_11e9_b8a4_309c23131503row12_col9 {\n",
       "            background-color:  #75a9cf;\n",
       "            color:  #000000;\n",
       "        }    #T_bee91a68_e72a_11e9_b8a4_309c23131503row12_col10 {\n",
       "            background-color:  #c0c9e2;\n",
       "            color:  #000000;\n",
       "        }    #T_bee91a68_e72a_11e9_b8a4_309c23131503row12_col11 {\n",
       "            background-color:  #a1bbda;\n",
       "            color:  #000000;\n",
       "        }    #T_bee91a68_e72a_11e9_b8a4_309c23131503row12_col12 {\n",
       "            background-color:  #023858;\n",
       "            color:  #f1f1f1;\n",
       "        }    #T_bee91a68_e72a_11e9_b8a4_309c23131503row12_col13 {\n",
       "            background-color:  #f5eff6;\n",
       "            color:  #000000;\n",
       "        }    #T_bee91a68_e72a_11e9_b8a4_309c23131503row13_col0 {\n",
       "            background-color:  #ede7f2;\n",
       "            color:  #000000;\n",
       "        }    #T_bee91a68_e72a_11e9_b8a4_309c23131503row13_col1 {\n",
       "            background-color:  #fff7fb;\n",
       "            color:  #000000;\n",
       "        }    #T_bee91a68_e72a_11e9_b8a4_309c23131503row13_col2 {\n",
       "            background-color:  #4496c3;\n",
       "            color:  #000000;\n",
       "        }    #T_bee91a68_e72a_11e9_b8a4_309c23131503row13_col3 {\n",
       "            background-color:  #fff7fb;\n",
       "            color:  #000000;\n",
       "        }    #T_bee91a68_e72a_11e9_b8a4_309c23131503row13_col4 {\n",
       "            background-color:  #f1ebf4;\n",
       "            color:  #000000;\n",
       "        }    #T_bee91a68_e72a_11e9_b8a4_309c23131503row13_col5 {\n",
       "            background-color:  #f7f0f7;\n",
       "            color:  #000000;\n",
       "        }    #T_bee91a68_e72a_11e9_b8a4_309c23131503row13_col6 {\n",
       "            background-color:  #d0d1e6;\n",
       "            color:  #000000;\n",
       "        }    #T_bee91a68_e72a_11e9_b8a4_309c23131503row13_col7 {\n",
       "            background-color:  #4897c4;\n",
       "            color:  #000000;\n",
       "        }    #T_bee91a68_e72a_11e9_b8a4_309c23131503row13_col8 {\n",
       "            background-color:  #fff7fb;\n",
       "            color:  #000000;\n",
       "        }    #T_bee91a68_e72a_11e9_b8a4_309c23131503row13_col9 {\n",
       "            background-color:  #f1ebf5;\n",
       "            color:  #000000;\n",
       "        }    #T_bee91a68_e72a_11e9_b8a4_309c23131503row13_col10 {\n",
       "            background-color:  #4a98c5;\n",
       "            color:  #000000;\n",
       "        }    #T_bee91a68_e72a_11e9_b8a4_309c23131503row13_col11 {\n",
       "            background-color:  #fff7fb;\n",
       "            color:  #000000;\n",
       "        }    #T_bee91a68_e72a_11e9_b8a4_309c23131503row13_col12 {\n",
       "            background-color:  #fff7fb;\n",
       "            color:  #000000;\n",
       "        }    #T_bee91a68_e72a_11e9_b8a4_309c23131503row13_col13 {\n",
       "            background-color:  #023858;\n",
       "            color:  #f1f1f1;\n",
       "        }</style><table id=\"T_bee91a68_e72a_11e9_b8a4_309c23131503\" ><thead>    <tr>        <th class=\"blank level0\" ></th>        <th class=\"col_heading level0 col0\" >age</th>        <th class=\"col_heading level0 col1\" >sex</th>        <th class=\"col_heading level0 col2\" >cp</th>        <th class=\"col_heading level0 col3\" >trestbps</th>        <th class=\"col_heading level0 col4\" >chol</th>        <th class=\"col_heading level0 col5\" >fbs</th>        <th class=\"col_heading level0 col6\" >restecg</th>        <th class=\"col_heading level0 col7\" >thalach</th>        <th class=\"col_heading level0 col8\" >exang</th>        <th class=\"col_heading level0 col9\" >oldpeak</th>        <th class=\"col_heading level0 col10\" >slope</th>        <th class=\"col_heading level0 col11\" >ca</th>        <th class=\"col_heading level0 col12\" >thal</th>        <th class=\"col_heading level0 col13\" >target</th>    </tr></thead><tbody>\n",
       "                <tr>\n",
       "                        <th id=\"T_bee91a68_e72a_11e9_b8a4_309c23131503level0_row0\" class=\"row_heading level0 row0\" >age</th>\n",
       "                        <td id=\"T_bee91a68_e72a_11e9_b8a4_309c23131503row0_col0\" class=\"data row0 col0\" >1</td>\n",
       "                        <td id=\"T_bee91a68_e72a_11e9_b8a4_309c23131503row0_col1\" class=\"data row0 col1\" >-0.098</td>\n",
       "                        <td id=\"T_bee91a68_e72a_11e9_b8a4_309c23131503row0_col2\" class=\"data row0 col2\" >-0.069</td>\n",
       "                        <td id=\"T_bee91a68_e72a_11e9_b8a4_309c23131503row0_col3\" class=\"data row0 col3\" >0.28</td>\n",
       "                        <td id=\"T_bee91a68_e72a_11e9_b8a4_309c23131503row0_col4\" class=\"data row0 col4\" >0.21</td>\n",
       "                        <td id=\"T_bee91a68_e72a_11e9_b8a4_309c23131503row0_col5\" class=\"data row0 col5\" >0.12</td>\n",
       "                        <td id=\"T_bee91a68_e72a_11e9_b8a4_309c23131503row0_col6\" class=\"data row0 col6\" >-0.12</td>\n",
       "                        <td id=\"T_bee91a68_e72a_11e9_b8a4_309c23131503row0_col7\" class=\"data row0 col7\" >-0.4</td>\n",
       "                        <td id=\"T_bee91a68_e72a_11e9_b8a4_309c23131503row0_col8\" class=\"data row0 col8\" >0.097</td>\n",
       "                        <td id=\"T_bee91a68_e72a_11e9_b8a4_309c23131503row0_col9\" class=\"data row0 col9\" >0.21</td>\n",
       "                        <td id=\"T_bee91a68_e72a_11e9_b8a4_309c23131503row0_col10\" class=\"data row0 col10\" >-0.17</td>\n",
       "                        <td id=\"T_bee91a68_e72a_11e9_b8a4_309c23131503row0_col11\" class=\"data row0 col11\" >0.28</td>\n",
       "                        <td id=\"T_bee91a68_e72a_11e9_b8a4_309c23131503row0_col12\" class=\"data row0 col12\" >0.068</td>\n",
       "                        <td id=\"T_bee91a68_e72a_11e9_b8a4_309c23131503row0_col13\" class=\"data row0 col13\" >-0.23</td>\n",
       "            </tr>\n",
       "            <tr>\n",
       "                        <th id=\"T_bee91a68_e72a_11e9_b8a4_309c23131503level0_row1\" class=\"row_heading level0 row1\" >sex</th>\n",
       "                        <td id=\"T_bee91a68_e72a_11e9_b8a4_309c23131503row1_col0\" class=\"data row1 col0\" >-0.098</td>\n",
       "                        <td id=\"T_bee91a68_e72a_11e9_b8a4_309c23131503row1_col1\" class=\"data row1 col1\" >1</td>\n",
       "                        <td id=\"T_bee91a68_e72a_11e9_b8a4_309c23131503row1_col2\" class=\"data row1 col2\" >-0.049</td>\n",
       "                        <td id=\"T_bee91a68_e72a_11e9_b8a4_309c23131503row1_col3\" class=\"data row1 col3\" >-0.057</td>\n",
       "                        <td id=\"T_bee91a68_e72a_11e9_b8a4_309c23131503row1_col4\" class=\"data row1 col4\" >-0.2</td>\n",
       "                        <td id=\"T_bee91a68_e72a_11e9_b8a4_309c23131503row1_col5\" class=\"data row1 col5\" >0.045</td>\n",
       "                        <td id=\"T_bee91a68_e72a_11e9_b8a4_309c23131503row1_col6\" class=\"data row1 col6\" >-0.058</td>\n",
       "                        <td id=\"T_bee91a68_e72a_11e9_b8a4_309c23131503row1_col7\" class=\"data row1 col7\" >-0.044</td>\n",
       "                        <td id=\"T_bee91a68_e72a_11e9_b8a4_309c23131503row1_col8\" class=\"data row1 col8\" >0.14</td>\n",
       "                        <td id=\"T_bee91a68_e72a_11e9_b8a4_309c23131503row1_col9\" class=\"data row1 col9\" >0.096</td>\n",
       "                        <td id=\"T_bee91a68_e72a_11e9_b8a4_309c23131503row1_col10\" class=\"data row1 col10\" >-0.031</td>\n",
       "                        <td id=\"T_bee91a68_e72a_11e9_b8a4_309c23131503row1_col11\" class=\"data row1 col11\" >0.12</td>\n",
       "                        <td id=\"T_bee91a68_e72a_11e9_b8a4_309c23131503row1_col12\" class=\"data row1 col12\" >0.21</td>\n",
       "                        <td id=\"T_bee91a68_e72a_11e9_b8a4_309c23131503row1_col13\" class=\"data row1 col13\" >-0.28</td>\n",
       "            </tr>\n",
       "            <tr>\n",
       "                        <th id=\"T_bee91a68_e72a_11e9_b8a4_309c23131503level0_row2\" class=\"row_heading level0 row2\" >cp</th>\n",
       "                        <td id=\"T_bee91a68_e72a_11e9_b8a4_309c23131503row2_col0\" class=\"data row2 col0\" >-0.069</td>\n",
       "                        <td id=\"T_bee91a68_e72a_11e9_b8a4_309c23131503row2_col1\" class=\"data row2 col1\" >-0.049</td>\n",
       "                        <td id=\"T_bee91a68_e72a_11e9_b8a4_309c23131503row2_col2\" class=\"data row2 col2\" >1</td>\n",
       "                        <td id=\"T_bee91a68_e72a_11e9_b8a4_309c23131503row2_col3\" class=\"data row2 col3\" >0.048</td>\n",
       "                        <td id=\"T_bee91a68_e72a_11e9_b8a4_309c23131503row2_col4\" class=\"data row2 col4\" >-0.077</td>\n",
       "                        <td id=\"T_bee91a68_e72a_11e9_b8a4_309c23131503row2_col5\" class=\"data row2 col5\" >0.094</td>\n",
       "                        <td id=\"T_bee91a68_e72a_11e9_b8a4_309c23131503row2_col6\" class=\"data row2 col6\" >0.044</td>\n",
       "                        <td id=\"T_bee91a68_e72a_11e9_b8a4_309c23131503row2_col7\" class=\"data row2 col7\" >0.3</td>\n",
       "                        <td id=\"T_bee91a68_e72a_11e9_b8a4_309c23131503row2_col8\" class=\"data row2 col8\" >-0.39</td>\n",
       "                        <td id=\"T_bee91a68_e72a_11e9_b8a4_309c23131503row2_col9\" class=\"data row2 col9\" >-0.15</td>\n",
       "                        <td id=\"T_bee91a68_e72a_11e9_b8a4_309c23131503row2_col10\" class=\"data row2 col10\" >0.12</td>\n",
       "                        <td id=\"T_bee91a68_e72a_11e9_b8a4_309c23131503row2_col11\" class=\"data row2 col11\" >-0.18</td>\n",
       "                        <td id=\"T_bee91a68_e72a_11e9_b8a4_309c23131503row2_col12\" class=\"data row2 col12\" >-0.16</td>\n",
       "                        <td id=\"T_bee91a68_e72a_11e9_b8a4_309c23131503row2_col13\" class=\"data row2 col13\" >0.43</td>\n",
       "            </tr>\n",
       "            <tr>\n",
       "                        <th id=\"T_bee91a68_e72a_11e9_b8a4_309c23131503level0_row3\" class=\"row_heading level0 row3\" >trestbps</th>\n",
       "                        <td id=\"T_bee91a68_e72a_11e9_b8a4_309c23131503row3_col0\" class=\"data row3 col0\" >0.28</td>\n",
       "                        <td id=\"T_bee91a68_e72a_11e9_b8a4_309c23131503row3_col1\" class=\"data row3 col1\" >-0.057</td>\n",
       "                        <td id=\"T_bee91a68_e72a_11e9_b8a4_309c23131503row3_col2\" class=\"data row3 col2\" >0.048</td>\n",
       "                        <td id=\"T_bee91a68_e72a_11e9_b8a4_309c23131503row3_col3\" class=\"data row3 col3\" >1</td>\n",
       "                        <td id=\"T_bee91a68_e72a_11e9_b8a4_309c23131503row3_col4\" class=\"data row3 col4\" >0.12</td>\n",
       "                        <td id=\"T_bee91a68_e72a_11e9_b8a4_309c23131503row3_col5\" class=\"data row3 col5\" >0.18</td>\n",
       "                        <td id=\"T_bee91a68_e72a_11e9_b8a4_309c23131503row3_col6\" class=\"data row3 col6\" >-0.11</td>\n",
       "                        <td id=\"T_bee91a68_e72a_11e9_b8a4_309c23131503row3_col7\" class=\"data row3 col7\" >-0.047</td>\n",
       "                        <td id=\"T_bee91a68_e72a_11e9_b8a4_309c23131503row3_col8\" class=\"data row3 col8\" >0.068</td>\n",
       "                        <td id=\"T_bee91a68_e72a_11e9_b8a4_309c23131503row3_col9\" class=\"data row3 col9\" >0.19</td>\n",
       "                        <td id=\"T_bee91a68_e72a_11e9_b8a4_309c23131503row3_col10\" class=\"data row3 col10\" >-0.12</td>\n",
       "                        <td id=\"T_bee91a68_e72a_11e9_b8a4_309c23131503row3_col11\" class=\"data row3 col11\" >0.1</td>\n",
       "                        <td id=\"T_bee91a68_e72a_11e9_b8a4_309c23131503row3_col12\" class=\"data row3 col12\" >0.062</td>\n",
       "                        <td id=\"T_bee91a68_e72a_11e9_b8a4_309c23131503row3_col13\" class=\"data row3 col13\" >-0.14</td>\n",
       "            </tr>\n",
       "            <tr>\n",
       "                        <th id=\"T_bee91a68_e72a_11e9_b8a4_309c23131503level0_row4\" class=\"row_heading level0 row4\" >chol</th>\n",
       "                        <td id=\"T_bee91a68_e72a_11e9_b8a4_309c23131503row4_col0\" class=\"data row4 col0\" >0.21</td>\n",
       "                        <td id=\"T_bee91a68_e72a_11e9_b8a4_309c23131503row4_col1\" class=\"data row4 col1\" >-0.2</td>\n",
       "                        <td id=\"T_bee91a68_e72a_11e9_b8a4_309c23131503row4_col2\" class=\"data row4 col2\" >-0.077</td>\n",
       "                        <td id=\"T_bee91a68_e72a_11e9_b8a4_309c23131503row4_col3\" class=\"data row4 col3\" >0.12</td>\n",
       "                        <td id=\"T_bee91a68_e72a_11e9_b8a4_309c23131503row4_col4\" class=\"data row4 col4\" >1</td>\n",
       "                        <td id=\"T_bee91a68_e72a_11e9_b8a4_309c23131503row4_col5\" class=\"data row4 col5\" >0.013</td>\n",
       "                        <td id=\"T_bee91a68_e72a_11e9_b8a4_309c23131503row4_col6\" class=\"data row4 col6\" >-0.15</td>\n",
       "                        <td id=\"T_bee91a68_e72a_11e9_b8a4_309c23131503row4_col7\" class=\"data row4 col7\" >-0.0099</td>\n",
       "                        <td id=\"T_bee91a68_e72a_11e9_b8a4_309c23131503row4_col8\" class=\"data row4 col8\" >0.067</td>\n",
       "                        <td id=\"T_bee91a68_e72a_11e9_b8a4_309c23131503row4_col9\" class=\"data row4 col9\" >0.054</td>\n",
       "                        <td id=\"T_bee91a68_e72a_11e9_b8a4_309c23131503row4_col10\" class=\"data row4 col10\" >-0.004</td>\n",
       "                        <td id=\"T_bee91a68_e72a_11e9_b8a4_309c23131503row4_col11\" class=\"data row4 col11\" >0.071</td>\n",
       "                        <td id=\"T_bee91a68_e72a_11e9_b8a4_309c23131503row4_col12\" class=\"data row4 col12\" >0.099</td>\n",
       "                        <td id=\"T_bee91a68_e72a_11e9_b8a4_309c23131503row4_col13\" class=\"data row4 col13\" >-0.085</td>\n",
       "            </tr>\n",
       "            <tr>\n",
       "                        <th id=\"T_bee91a68_e72a_11e9_b8a4_309c23131503level0_row5\" class=\"row_heading level0 row5\" >fbs</th>\n",
       "                        <td id=\"T_bee91a68_e72a_11e9_b8a4_309c23131503row5_col0\" class=\"data row5 col0\" >0.12</td>\n",
       "                        <td id=\"T_bee91a68_e72a_11e9_b8a4_309c23131503row5_col1\" class=\"data row5 col1\" >0.045</td>\n",
       "                        <td id=\"T_bee91a68_e72a_11e9_b8a4_309c23131503row5_col2\" class=\"data row5 col2\" >0.094</td>\n",
       "                        <td id=\"T_bee91a68_e72a_11e9_b8a4_309c23131503row5_col3\" class=\"data row5 col3\" >0.18</td>\n",
       "                        <td id=\"T_bee91a68_e72a_11e9_b8a4_309c23131503row5_col4\" class=\"data row5 col4\" >0.013</td>\n",
       "                        <td id=\"T_bee91a68_e72a_11e9_b8a4_309c23131503row5_col5\" class=\"data row5 col5\" >1</td>\n",
       "                        <td id=\"T_bee91a68_e72a_11e9_b8a4_309c23131503row5_col6\" class=\"data row5 col6\" >-0.084</td>\n",
       "                        <td id=\"T_bee91a68_e72a_11e9_b8a4_309c23131503row5_col7\" class=\"data row5 col7\" >-0.0086</td>\n",
       "                        <td id=\"T_bee91a68_e72a_11e9_b8a4_309c23131503row5_col8\" class=\"data row5 col8\" >0.026</td>\n",
       "                        <td id=\"T_bee91a68_e72a_11e9_b8a4_309c23131503row5_col9\" class=\"data row5 col9\" >0.0057</td>\n",
       "                        <td id=\"T_bee91a68_e72a_11e9_b8a4_309c23131503row5_col10\" class=\"data row5 col10\" >-0.06</td>\n",
       "                        <td id=\"T_bee91a68_e72a_11e9_b8a4_309c23131503row5_col11\" class=\"data row5 col11\" >0.14</td>\n",
       "                        <td id=\"T_bee91a68_e72a_11e9_b8a4_309c23131503row5_col12\" class=\"data row5 col12\" >-0.032</td>\n",
       "                        <td id=\"T_bee91a68_e72a_11e9_b8a4_309c23131503row5_col13\" class=\"data row5 col13\" >-0.028</td>\n",
       "            </tr>\n",
       "            <tr>\n",
       "                        <th id=\"T_bee91a68_e72a_11e9_b8a4_309c23131503level0_row6\" class=\"row_heading level0 row6\" >restecg</th>\n",
       "                        <td id=\"T_bee91a68_e72a_11e9_b8a4_309c23131503row6_col0\" class=\"data row6 col0\" >-0.12</td>\n",
       "                        <td id=\"T_bee91a68_e72a_11e9_b8a4_309c23131503row6_col1\" class=\"data row6 col1\" >-0.058</td>\n",
       "                        <td id=\"T_bee91a68_e72a_11e9_b8a4_309c23131503row6_col2\" class=\"data row6 col2\" >0.044</td>\n",
       "                        <td id=\"T_bee91a68_e72a_11e9_b8a4_309c23131503row6_col3\" class=\"data row6 col3\" >-0.11</td>\n",
       "                        <td id=\"T_bee91a68_e72a_11e9_b8a4_309c23131503row6_col4\" class=\"data row6 col4\" >-0.15</td>\n",
       "                        <td id=\"T_bee91a68_e72a_11e9_b8a4_309c23131503row6_col5\" class=\"data row6 col5\" >-0.084</td>\n",
       "                        <td id=\"T_bee91a68_e72a_11e9_b8a4_309c23131503row6_col6\" class=\"data row6 col6\" >1</td>\n",
       "                        <td id=\"T_bee91a68_e72a_11e9_b8a4_309c23131503row6_col7\" class=\"data row6 col7\" >0.044</td>\n",
       "                        <td id=\"T_bee91a68_e72a_11e9_b8a4_309c23131503row6_col8\" class=\"data row6 col8\" >-0.071</td>\n",
       "                        <td id=\"T_bee91a68_e72a_11e9_b8a4_309c23131503row6_col9\" class=\"data row6 col9\" >-0.059</td>\n",
       "                        <td id=\"T_bee91a68_e72a_11e9_b8a4_309c23131503row6_col10\" class=\"data row6 col10\" >0.093</td>\n",
       "                        <td id=\"T_bee91a68_e72a_11e9_b8a4_309c23131503row6_col11\" class=\"data row6 col11\" >-0.072</td>\n",
       "                        <td id=\"T_bee91a68_e72a_11e9_b8a4_309c23131503row6_col12\" class=\"data row6 col12\" >-0.012</td>\n",
       "                        <td id=\"T_bee91a68_e72a_11e9_b8a4_309c23131503row6_col13\" class=\"data row6 col13\" >0.14</td>\n",
       "            </tr>\n",
       "            <tr>\n",
       "                        <th id=\"T_bee91a68_e72a_11e9_b8a4_309c23131503level0_row7\" class=\"row_heading level0 row7\" >thalach</th>\n",
       "                        <td id=\"T_bee91a68_e72a_11e9_b8a4_309c23131503row7_col0\" class=\"data row7 col0\" >-0.4</td>\n",
       "                        <td id=\"T_bee91a68_e72a_11e9_b8a4_309c23131503row7_col1\" class=\"data row7 col1\" >-0.044</td>\n",
       "                        <td id=\"T_bee91a68_e72a_11e9_b8a4_309c23131503row7_col2\" class=\"data row7 col2\" >0.3</td>\n",
       "                        <td id=\"T_bee91a68_e72a_11e9_b8a4_309c23131503row7_col3\" class=\"data row7 col3\" >-0.047</td>\n",
       "                        <td id=\"T_bee91a68_e72a_11e9_b8a4_309c23131503row7_col4\" class=\"data row7 col4\" >-0.0099</td>\n",
       "                        <td id=\"T_bee91a68_e72a_11e9_b8a4_309c23131503row7_col5\" class=\"data row7 col5\" >-0.0086</td>\n",
       "                        <td id=\"T_bee91a68_e72a_11e9_b8a4_309c23131503row7_col6\" class=\"data row7 col6\" >0.044</td>\n",
       "                        <td id=\"T_bee91a68_e72a_11e9_b8a4_309c23131503row7_col7\" class=\"data row7 col7\" >1</td>\n",
       "                        <td id=\"T_bee91a68_e72a_11e9_b8a4_309c23131503row7_col8\" class=\"data row7 col8\" >-0.38</td>\n",
       "                        <td id=\"T_bee91a68_e72a_11e9_b8a4_309c23131503row7_col9\" class=\"data row7 col9\" >-0.34</td>\n",
       "                        <td id=\"T_bee91a68_e72a_11e9_b8a4_309c23131503row7_col10\" class=\"data row7 col10\" >0.39</td>\n",
       "                        <td id=\"T_bee91a68_e72a_11e9_b8a4_309c23131503row7_col11\" class=\"data row7 col11\" >-0.21</td>\n",
       "                        <td id=\"T_bee91a68_e72a_11e9_b8a4_309c23131503row7_col12\" class=\"data row7 col12\" >-0.096</td>\n",
       "                        <td id=\"T_bee91a68_e72a_11e9_b8a4_309c23131503row7_col13\" class=\"data row7 col13\" >0.42</td>\n",
       "            </tr>\n",
       "            <tr>\n",
       "                        <th id=\"T_bee91a68_e72a_11e9_b8a4_309c23131503level0_row8\" class=\"row_heading level0 row8\" >exang</th>\n",
       "                        <td id=\"T_bee91a68_e72a_11e9_b8a4_309c23131503row8_col0\" class=\"data row8 col0\" >0.097</td>\n",
       "                        <td id=\"T_bee91a68_e72a_11e9_b8a4_309c23131503row8_col1\" class=\"data row8 col1\" >0.14</td>\n",
       "                        <td id=\"T_bee91a68_e72a_11e9_b8a4_309c23131503row8_col2\" class=\"data row8 col2\" >-0.39</td>\n",
       "                        <td id=\"T_bee91a68_e72a_11e9_b8a4_309c23131503row8_col3\" class=\"data row8 col3\" >0.068</td>\n",
       "                        <td id=\"T_bee91a68_e72a_11e9_b8a4_309c23131503row8_col4\" class=\"data row8 col4\" >0.067</td>\n",
       "                        <td id=\"T_bee91a68_e72a_11e9_b8a4_309c23131503row8_col5\" class=\"data row8 col5\" >0.026</td>\n",
       "                        <td id=\"T_bee91a68_e72a_11e9_b8a4_309c23131503row8_col6\" class=\"data row8 col6\" >-0.071</td>\n",
       "                        <td id=\"T_bee91a68_e72a_11e9_b8a4_309c23131503row8_col7\" class=\"data row8 col7\" >-0.38</td>\n",
       "                        <td id=\"T_bee91a68_e72a_11e9_b8a4_309c23131503row8_col8\" class=\"data row8 col8\" >1</td>\n",
       "                        <td id=\"T_bee91a68_e72a_11e9_b8a4_309c23131503row8_col9\" class=\"data row8 col9\" >0.29</td>\n",
       "                        <td id=\"T_bee91a68_e72a_11e9_b8a4_309c23131503row8_col10\" class=\"data row8 col10\" >-0.26</td>\n",
       "                        <td id=\"T_bee91a68_e72a_11e9_b8a4_309c23131503row8_col11\" class=\"data row8 col11\" >0.12</td>\n",
       "                        <td id=\"T_bee91a68_e72a_11e9_b8a4_309c23131503row8_col12\" class=\"data row8 col12\" >0.21</td>\n",
       "                        <td id=\"T_bee91a68_e72a_11e9_b8a4_309c23131503row8_col13\" class=\"data row8 col13\" >-0.44</td>\n",
       "            </tr>\n",
       "            <tr>\n",
       "                        <th id=\"T_bee91a68_e72a_11e9_b8a4_309c23131503level0_row9\" class=\"row_heading level0 row9\" >oldpeak</th>\n",
       "                        <td id=\"T_bee91a68_e72a_11e9_b8a4_309c23131503row9_col0\" class=\"data row9 col0\" >0.21</td>\n",
       "                        <td id=\"T_bee91a68_e72a_11e9_b8a4_309c23131503row9_col1\" class=\"data row9 col1\" >0.096</td>\n",
       "                        <td id=\"T_bee91a68_e72a_11e9_b8a4_309c23131503row9_col2\" class=\"data row9 col2\" >-0.15</td>\n",
       "                        <td id=\"T_bee91a68_e72a_11e9_b8a4_309c23131503row9_col3\" class=\"data row9 col3\" >0.19</td>\n",
       "                        <td id=\"T_bee91a68_e72a_11e9_b8a4_309c23131503row9_col4\" class=\"data row9 col4\" >0.054</td>\n",
       "                        <td id=\"T_bee91a68_e72a_11e9_b8a4_309c23131503row9_col5\" class=\"data row9 col5\" >0.0057</td>\n",
       "                        <td id=\"T_bee91a68_e72a_11e9_b8a4_309c23131503row9_col6\" class=\"data row9 col6\" >-0.059</td>\n",
       "                        <td id=\"T_bee91a68_e72a_11e9_b8a4_309c23131503row9_col7\" class=\"data row9 col7\" >-0.34</td>\n",
       "                        <td id=\"T_bee91a68_e72a_11e9_b8a4_309c23131503row9_col8\" class=\"data row9 col8\" >0.29</td>\n",
       "                        <td id=\"T_bee91a68_e72a_11e9_b8a4_309c23131503row9_col9\" class=\"data row9 col9\" >1</td>\n",
       "                        <td id=\"T_bee91a68_e72a_11e9_b8a4_309c23131503row9_col10\" class=\"data row9 col10\" >-0.58</td>\n",
       "                        <td id=\"T_bee91a68_e72a_11e9_b8a4_309c23131503row9_col11\" class=\"data row9 col11\" >0.22</td>\n",
       "                        <td id=\"T_bee91a68_e72a_11e9_b8a4_309c23131503row9_col12\" class=\"data row9 col12\" >0.21</td>\n",
       "                        <td id=\"T_bee91a68_e72a_11e9_b8a4_309c23131503row9_col13\" class=\"data row9 col13\" >-0.43</td>\n",
       "            </tr>\n",
       "            <tr>\n",
       "                        <th id=\"T_bee91a68_e72a_11e9_b8a4_309c23131503level0_row10\" class=\"row_heading level0 row10\" >slope</th>\n",
       "                        <td id=\"T_bee91a68_e72a_11e9_b8a4_309c23131503row10_col0\" class=\"data row10 col0\" >-0.17</td>\n",
       "                        <td id=\"T_bee91a68_e72a_11e9_b8a4_309c23131503row10_col1\" class=\"data row10 col1\" >-0.031</td>\n",
       "                        <td id=\"T_bee91a68_e72a_11e9_b8a4_309c23131503row10_col2\" class=\"data row10 col2\" >0.12</td>\n",
       "                        <td id=\"T_bee91a68_e72a_11e9_b8a4_309c23131503row10_col3\" class=\"data row10 col3\" >-0.12</td>\n",
       "                        <td id=\"T_bee91a68_e72a_11e9_b8a4_309c23131503row10_col4\" class=\"data row10 col4\" >-0.004</td>\n",
       "                        <td id=\"T_bee91a68_e72a_11e9_b8a4_309c23131503row10_col5\" class=\"data row10 col5\" >-0.06</td>\n",
       "                        <td id=\"T_bee91a68_e72a_11e9_b8a4_309c23131503row10_col6\" class=\"data row10 col6\" >0.093</td>\n",
       "                        <td id=\"T_bee91a68_e72a_11e9_b8a4_309c23131503row10_col7\" class=\"data row10 col7\" >0.39</td>\n",
       "                        <td id=\"T_bee91a68_e72a_11e9_b8a4_309c23131503row10_col8\" class=\"data row10 col8\" >-0.26</td>\n",
       "                        <td id=\"T_bee91a68_e72a_11e9_b8a4_309c23131503row10_col9\" class=\"data row10 col9\" >-0.58</td>\n",
       "                        <td id=\"T_bee91a68_e72a_11e9_b8a4_309c23131503row10_col10\" class=\"data row10 col10\" >1</td>\n",
       "                        <td id=\"T_bee91a68_e72a_11e9_b8a4_309c23131503row10_col11\" class=\"data row10 col11\" >-0.08</td>\n",
       "                        <td id=\"T_bee91a68_e72a_11e9_b8a4_309c23131503row10_col12\" class=\"data row10 col12\" >-0.1</td>\n",
       "                        <td id=\"T_bee91a68_e72a_11e9_b8a4_309c23131503row10_col13\" class=\"data row10 col13\" >0.35</td>\n",
       "            </tr>\n",
       "            <tr>\n",
       "                        <th id=\"T_bee91a68_e72a_11e9_b8a4_309c23131503level0_row11\" class=\"row_heading level0 row11\" >ca</th>\n",
       "                        <td id=\"T_bee91a68_e72a_11e9_b8a4_309c23131503row11_col0\" class=\"data row11 col0\" >0.28</td>\n",
       "                        <td id=\"T_bee91a68_e72a_11e9_b8a4_309c23131503row11_col1\" class=\"data row11 col1\" >0.12</td>\n",
       "                        <td id=\"T_bee91a68_e72a_11e9_b8a4_309c23131503row11_col2\" class=\"data row11 col2\" >-0.18</td>\n",
       "                        <td id=\"T_bee91a68_e72a_11e9_b8a4_309c23131503row11_col3\" class=\"data row11 col3\" >0.1</td>\n",
       "                        <td id=\"T_bee91a68_e72a_11e9_b8a4_309c23131503row11_col4\" class=\"data row11 col4\" >0.071</td>\n",
       "                        <td id=\"T_bee91a68_e72a_11e9_b8a4_309c23131503row11_col5\" class=\"data row11 col5\" >0.14</td>\n",
       "                        <td id=\"T_bee91a68_e72a_11e9_b8a4_309c23131503row11_col6\" class=\"data row11 col6\" >-0.072</td>\n",
       "                        <td id=\"T_bee91a68_e72a_11e9_b8a4_309c23131503row11_col7\" class=\"data row11 col7\" >-0.21</td>\n",
       "                        <td id=\"T_bee91a68_e72a_11e9_b8a4_309c23131503row11_col8\" class=\"data row11 col8\" >0.12</td>\n",
       "                        <td id=\"T_bee91a68_e72a_11e9_b8a4_309c23131503row11_col9\" class=\"data row11 col9\" >0.22</td>\n",
       "                        <td id=\"T_bee91a68_e72a_11e9_b8a4_309c23131503row11_col10\" class=\"data row11 col10\" >-0.08</td>\n",
       "                        <td id=\"T_bee91a68_e72a_11e9_b8a4_309c23131503row11_col11\" class=\"data row11 col11\" >1</td>\n",
       "                        <td id=\"T_bee91a68_e72a_11e9_b8a4_309c23131503row11_col12\" class=\"data row11 col12\" >0.15</td>\n",
       "                        <td id=\"T_bee91a68_e72a_11e9_b8a4_309c23131503row11_col13\" class=\"data row11 col13\" >-0.39</td>\n",
       "            </tr>\n",
       "            <tr>\n",
       "                        <th id=\"T_bee91a68_e72a_11e9_b8a4_309c23131503level0_row12\" class=\"row_heading level0 row12\" >thal</th>\n",
       "                        <td id=\"T_bee91a68_e72a_11e9_b8a4_309c23131503row12_col0\" class=\"data row12 col0\" >0.068</td>\n",
       "                        <td id=\"T_bee91a68_e72a_11e9_b8a4_309c23131503row12_col1\" class=\"data row12 col1\" >0.21</td>\n",
       "                        <td id=\"T_bee91a68_e72a_11e9_b8a4_309c23131503row12_col2\" class=\"data row12 col2\" >-0.16</td>\n",
       "                        <td id=\"T_bee91a68_e72a_11e9_b8a4_309c23131503row12_col3\" class=\"data row12 col3\" >0.062</td>\n",
       "                        <td id=\"T_bee91a68_e72a_11e9_b8a4_309c23131503row12_col4\" class=\"data row12 col4\" >0.099</td>\n",
       "                        <td id=\"T_bee91a68_e72a_11e9_b8a4_309c23131503row12_col5\" class=\"data row12 col5\" >-0.032</td>\n",
       "                        <td id=\"T_bee91a68_e72a_11e9_b8a4_309c23131503row12_col6\" class=\"data row12 col6\" >-0.012</td>\n",
       "                        <td id=\"T_bee91a68_e72a_11e9_b8a4_309c23131503row12_col7\" class=\"data row12 col7\" >-0.096</td>\n",
       "                        <td id=\"T_bee91a68_e72a_11e9_b8a4_309c23131503row12_col8\" class=\"data row12 col8\" >0.21</td>\n",
       "                        <td id=\"T_bee91a68_e72a_11e9_b8a4_309c23131503row12_col9\" class=\"data row12 col9\" >0.21</td>\n",
       "                        <td id=\"T_bee91a68_e72a_11e9_b8a4_309c23131503row12_col10\" class=\"data row12 col10\" >-0.1</td>\n",
       "                        <td id=\"T_bee91a68_e72a_11e9_b8a4_309c23131503row12_col11\" class=\"data row12 col11\" >0.15</td>\n",
       "                        <td id=\"T_bee91a68_e72a_11e9_b8a4_309c23131503row12_col12\" class=\"data row12 col12\" >1</td>\n",
       "                        <td id=\"T_bee91a68_e72a_11e9_b8a4_309c23131503row12_col13\" class=\"data row12 col13\" >-0.34</td>\n",
       "            </tr>\n",
       "            <tr>\n",
       "                        <th id=\"T_bee91a68_e72a_11e9_b8a4_309c23131503level0_row13\" class=\"row_heading level0 row13\" >target</th>\n",
       "                        <td id=\"T_bee91a68_e72a_11e9_b8a4_309c23131503row13_col0\" class=\"data row13 col0\" >-0.23</td>\n",
       "                        <td id=\"T_bee91a68_e72a_11e9_b8a4_309c23131503row13_col1\" class=\"data row13 col1\" >-0.28</td>\n",
       "                        <td id=\"T_bee91a68_e72a_11e9_b8a4_309c23131503row13_col2\" class=\"data row13 col2\" >0.43</td>\n",
       "                        <td id=\"T_bee91a68_e72a_11e9_b8a4_309c23131503row13_col3\" class=\"data row13 col3\" >-0.14</td>\n",
       "                        <td id=\"T_bee91a68_e72a_11e9_b8a4_309c23131503row13_col4\" class=\"data row13 col4\" >-0.085</td>\n",
       "                        <td id=\"T_bee91a68_e72a_11e9_b8a4_309c23131503row13_col5\" class=\"data row13 col5\" >-0.028</td>\n",
       "                        <td id=\"T_bee91a68_e72a_11e9_b8a4_309c23131503row13_col6\" class=\"data row13 col6\" >0.14</td>\n",
       "                        <td id=\"T_bee91a68_e72a_11e9_b8a4_309c23131503row13_col7\" class=\"data row13 col7\" >0.42</td>\n",
       "                        <td id=\"T_bee91a68_e72a_11e9_b8a4_309c23131503row13_col8\" class=\"data row13 col8\" >-0.44</td>\n",
       "                        <td id=\"T_bee91a68_e72a_11e9_b8a4_309c23131503row13_col9\" class=\"data row13 col9\" >-0.43</td>\n",
       "                        <td id=\"T_bee91a68_e72a_11e9_b8a4_309c23131503row13_col10\" class=\"data row13 col10\" >0.35</td>\n",
       "                        <td id=\"T_bee91a68_e72a_11e9_b8a4_309c23131503row13_col11\" class=\"data row13 col11\" >-0.39</td>\n",
       "                        <td id=\"T_bee91a68_e72a_11e9_b8a4_309c23131503row13_col12\" class=\"data row13 col12\" >-0.34</td>\n",
       "                        <td id=\"T_bee91a68_e72a_11e9_b8a4_309c23131503row13_col13\" class=\"data row13 col13\" >1</td>\n",
       "            </tr>\n",
       "    </tbody></table>"
      ],
      "text/plain": [
       "<pandas.io.formats.style.Styler at 0x255ed4b2d68>"
      ]
     },
     "execution_count": 121,
     "metadata": {},
     "output_type": "execute_result"
    }
   ],
   "source": [
    "#Mencari nilai korelasi antar features.\n",
    "df.corr().style.background_gradient().set_precision(2)"
   ]
  },
  {
   "cell_type": "markdown",
   "metadata": {},
   "source": [
    "- Terdapat hubungan linear positif yang cukup kuat antara target dengan cp, thalach, dan slope.\n",
    "- Sedangkan untuk hubungan linear negatif, target mempunyai hubungan yang kuat dengan exang, oldpeak, ca, dan thal."
   ]
  },
  {
   "cell_type": "markdown",
   "metadata": {},
   "source": [
    "### Modelling"
   ]
  },
  {
   "cell_type": "code",
   "execution_count": 122,
   "metadata": {},
   "outputs": [],
   "source": [
    "#Membuat object Logistic Regression\n",
    "log_reg = LogisticRegression()"
   ]
  },
  {
   "cell_type": "code",
   "execution_count": 123,
   "metadata": {},
   "outputs": [],
   "source": [
    "#Membuat variable x dan y\n",
    "x = df.drop(columns=['target'])\n",
    "y = df['target']"
   ]
  },
  {
   "cell_type": "code",
   "execution_count": 124,
   "metadata": {},
   "outputs": [],
   "source": [
    "#Split data kedalam training dan testing\n",
    "x_train, x_test, y_train, y_test = train_test_split(x, y, test_size=0.2, random_state=4)"
   ]
  },
  {
   "cell_type": "code",
   "execution_count": 125,
   "metadata": {},
   "outputs": [
    {
     "data": {
      "text/plain": [
       "LogisticRegression(C=1.0, class_weight=None, dual=False, fit_intercept=True,\n",
       "                   intercept_scaling=1, l1_ratio=None, max_iter=100,\n",
       "                   multi_class='warn', n_jobs=None, penalty='l2',\n",
       "                   random_state=None, solver='warn', tol=0.0001, verbose=0,\n",
       "                   warm_start=False)"
      ]
     },
     "execution_count": 125,
     "metadata": {},
     "output_type": "execute_result"
    }
   ],
   "source": [
    "#Training the model\n",
    "log_reg.fit(x_train, y_train)"
   ]
  },
  {
   "cell_type": "code",
   "execution_count": 126,
   "metadata": {},
   "outputs": [],
   "source": [
    "#Predict testing set\n",
    "y_pred = log_reg.predict(x_test)"
   ]
  },
  {
   "cell_type": "code",
   "execution_count": 127,
   "metadata": {},
   "outputs": [
    {
     "name": "stdout",
     "output_type": "stream",
     "text": [
      "              precision    recall  f1-score   support\n",
      "\n",
      "           0       0.91      0.84      0.87        25\n",
      "           1       0.89      0.94      0.92        36\n",
      "\n",
      "    accuracy                           0.90        61\n",
      "   macro avg       0.90      0.89      0.90        61\n",
      "weighted avg       0.90      0.90      0.90        61\n",
      "\n"
     ]
    }
   ],
   "source": [
    "#Check performa model menggunakan classification_report\n",
    "print(classification_report(y_test, y_pred))"
   ]
  },
  {
   "cell_type": "code",
   "execution_count": 128,
   "metadata": {
    "scrolled": true
   },
   "outputs": [
    {
     "data": {
      "text/plain": [
       "0.8922222222222222"
      ]
     },
     "execution_count": 128,
     "metadata": {},
     "output_type": "execute_result"
    }
   ],
   "source": [
    "#Check performa dari model menggunakan auc score\n",
    "roc_auc_score(y_test, y_pred)"
   ]
  },
  {
   "cell_type": "markdown",
   "metadata": {},
   "source": [
    "- Dari classification report dapat dilihat bahwa model memiliki rata-rata akurasi diatas 90% mulai dari precision, recall, f1-score, dan support. Accuracy juga menunjukan akurasi 90%.\n",
    "- Lalu untuk score dari AUC dapat dilihat bahwa nilainya seitar 89,2%"
   ]
  },
  {
   "cell_type": "markdown",
   "metadata": {},
   "source": [
    "### Hyperparameter Tuning Menggunakan Grid Search"
   ]
  },
  {
   "cell_type": "code",
   "execution_count": 129,
   "metadata": {},
   "outputs": [],
   "source": [
    "#List Hyperparameters yang akan diuji\n",
    "penalty = ['l1', 'l2']\n",
    "C = np.logspace(-4,4,20)"
   ]
  },
  {
   "cell_type": "code",
   "execution_count": 130,
   "metadata": {},
   "outputs": [],
   "source": [
    "#Menjadikan ke dalam bentuk dictionary\n",
    "hyperparameters = dict(penalty=penalty, C=C)"
   ]
  },
  {
   "cell_type": "code",
   "execution_count": 131,
   "metadata": {},
   "outputs": [],
   "source": [
    "logreg = LogisticRegression()"
   ]
  },
  {
   "cell_type": "code",
   "execution_count": 132,
   "metadata": {},
   "outputs": [],
   "source": [
    "#cv itu cross validation\n",
    "clf = GridSearchCV(logreg, hyperparameters, cv=10)"
   ]
  },
  {
   "cell_type": "code",
   "execution_count": 133,
   "metadata": {
    "scrolled": true
   },
   "outputs": [],
   "source": [
    "best_model = clf.fit(x,y)"
   ]
  },
  {
   "cell_type": "code",
   "execution_count": 134,
   "metadata": {},
   "outputs": [
    {
     "name": "stdout",
     "output_type": "stream",
     "text": [
      "Best Penalty: l2\n",
      "Best C: 0.08858667904100823\n"
     ]
    }
   ],
   "source": [
    "#Nilai hyperpaameters terbaik\n",
    "print('Best Penalty:', best_model.best_estimator_.get_params()['penalty'])\n",
    "print('Best C:', best_model.best_estimator_.get_params()['C'])"
   ]
  },
  {
   "cell_type": "code",
   "execution_count": 135,
   "metadata": {},
   "outputs": [],
   "source": [
    "y_pred = best_model.predict(x_test)"
   ]
  },
  {
   "cell_type": "code",
   "execution_count": 136,
   "metadata": {},
   "outputs": [
    {
     "name": "stdout",
     "output_type": "stream",
     "text": [
      "              precision    recall  f1-score   support\n",
      "\n",
      "           0       0.95      0.84      0.89        25\n",
      "           1       0.90      0.97      0.93        36\n",
      "\n",
      "    accuracy                           0.92        61\n",
      "   macro avg       0.93      0.91      0.91        61\n",
      "weighted avg       0.92      0.92      0.92        61\n",
      "\n"
     ]
    }
   ],
   "source": [
    "print(classification_report(y_test, y_pred))"
   ]
  },
  {
   "cell_type": "code",
   "execution_count": 137,
   "metadata": {},
   "outputs": [
    {
     "data": {
      "text/plain": [
       "0.9061111111111111"
      ]
     },
     "execution_count": 137,
     "metadata": {},
     "output_type": "execute_result"
    }
   ],
   "source": [
    "roc_auc_score(y_test, y_pred)"
   ]
  },
  {
   "cell_type": "markdown",
   "metadata": {},
   "source": [
    "### Prediction"
   ]
  },
  {
   "cell_type": "code",
   "execution_count": 138,
   "metadata": {},
   "outputs": [
    {
     "data": {
      "text/html": [
       "<div>\n",
       "<style scoped>\n",
       "    .dataframe tbody tr th:only-of-type {\n",
       "        vertical-align: middle;\n",
       "    }\n",
       "\n",
       "    .dataframe tbody tr th {\n",
       "        vertical-align: top;\n",
       "    }\n",
       "\n",
       "    .dataframe thead th {\n",
       "        text-align: right;\n",
       "    }\n",
       "</style>\n",
       "<table border=\"1\" class=\"dataframe\">\n",
       "  <thead>\n",
       "    <tr style=\"text-align: right;\">\n",
       "      <th></th>\n",
       "      <th>age</th>\n",
       "      <th>sex</th>\n",
       "      <th>cp</th>\n",
       "      <th>trestbps</th>\n",
       "      <th>chol</th>\n",
       "      <th>fbs</th>\n",
       "      <th>restecg</th>\n",
       "      <th>thalach</th>\n",
       "      <th>exang</th>\n",
       "      <th>oldpeak</th>\n",
       "      <th>slope</th>\n",
       "      <th>ca</th>\n",
       "      <th>thal</th>\n",
       "      <th>target</th>\n",
       "    </tr>\n",
       "  </thead>\n",
       "  <tbody>\n",
       "    <tr>\n",
       "      <th>0</th>\n",
       "      <td>63</td>\n",
       "      <td>1</td>\n",
       "      <td>3</td>\n",
       "      <td>145</td>\n",
       "      <td>233</td>\n",
       "      <td>1</td>\n",
       "      <td>0</td>\n",
       "      <td>150</td>\n",
       "      <td>0</td>\n",
       "      <td>2.3</td>\n",
       "      <td>0</td>\n",
       "      <td>0</td>\n",
       "      <td>1</td>\n",
       "      <td>1</td>\n",
       "    </tr>\n",
       "    <tr>\n",
       "      <th>1</th>\n",
       "      <td>37</td>\n",
       "      <td>1</td>\n",
       "      <td>2</td>\n",
       "      <td>130</td>\n",
       "      <td>250</td>\n",
       "      <td>0</td>\n",
       "      <td>1</td>\n",
       "      <td>187</td>\n",
       "      <td>0</td>\n",
       "      <td>3.5</td>\n",
       "      <td>0</td>\n",
       "      <td>0</td>\n",
       "      <td>2</td>\n",
       "      <td>1</td>\n",
       "    </tr>\n",
       "    <tr>\n",
       "      <th>2</th>\n",
       "      <td>41</td>\n",
       "      <td>0</td>\n",
       "      <td>1</td>\n",
       "      <td>130</td>\n",
       "      <td>204</td>\n",
       "      <td>0</td>\n",
       "      <td>0</td>\n",
       "      <td>172</td>\n",
       "      <td>0</td>\n",
       "      <td>1.4</td>\n",
       "      <td>2</td>\n",
       "      <td>0</td>\n",
       "      <td>2</td>\n",
       "      <td>1</td>\n",
       "    </tr>\n",
       "    <tr>\n",
       "      <th>3</th>\n",
       "      <td>56</td>\n",
       "      <td>1</td>\n",
       "      <td>1</td>\n",
       "      <td>120</td>\n",
       "      <td>236</td>\n",
       "      <td>0</td>\n",
       "      <td>1</td>\n",
       "      <td>178</td>\n",
       "      <td>0</td>\n",
       "      <td>0.8</td>\n",
       "      <td>2</td>\n",
       "      <td>0</td>\n",
       "      <td>2</td>\n",
       "      <td>1</td>\n",
       "    </tr>\n",
       "    <tr>\n",
       "      <th>4</th>\n",
       "      <td>57</td>\n",
       "      <td>0</td>\n",
       "      <td>0</td>\n",
       "      <td>120</td>\n",
       "      <td>354</td>\n",
       "      <td>0</td>\n",
       "      <td>1</td>\n",
       "      <td>163</td>\n",
       "      <td>1</td>\n",
       "      <td>0.6</td>\n",
       "      <td>2</td>\n",
       "      <td>0</td>\n",
       "      <td>2</td>\n",
       "      <td>1</td>\n",
       "    </tr>\n",
       "  </tbody>\n",
       "</table>\n",
       "</div>"
      ],
      "text/plain": [
       "   age  sex  cp  trestbps  chol  fbs  restecg  thalach  exang  oldpeak  slope  \\\n",
       "0   63    1   3       145   233    1        0      150      0      2.3      0   \n",
       "1   37    1   2       130   250    0        1      187      0      3.5      0   \n",
       "2   41    0   1       130   204    0        0      172      0      1.4      2   \n",
       "3   56    1   1       120   236    0        1      178      0      0.8      2   \n",
       "4   57    0   0       120   354    0        1      163      1      0.6      2   \n",
       "\n",
       "   ca  thal  target  \n",
       "0   0     1       1  \n",
       "1   0     2       1  \n",
       "2   0     2       1  \n",
       "3   0     2       1  \n",
       "4   0     2       1  "
      ]
     },
     "execution_count": 138,
     "metadata": {},
     "output_type": "execute_result"
    }
   ],
   "source": [
    "df.head()"
   ]
  },
  {
   "cell_type": "markdown",
   "metadata": {},
   "source": [
    "- Menurut Cinta, pasien yang baru ia tangani memiliki ciri-ciri medis sebagai berikut:\n",
    "    1. age = 45 tahun\n",
    "    2. sex = 1 (laki-laki)\n",
    "    3. cp = 3 yaitu non-anginal pain\n",
    "    4. trestbps = 120 mm/Hg\n",
    "    5. chol = 302 mg/dl\n",
    "    6. fbs = 1\n",
    "    7. restecg = 0\n",
    "    8. thalach = 163\n",
    "    9. exang = 1\n",
    "    10. oldpeak = 2.2\n",
    "    11. slope = 2\n",
    "    12. ca = 2\n",
    "    13. thal = 1"
   ]
  },
  {
   "cell_type": "code",
   "execution_count": 139,
   "metadata": {},
   "outputs": [],
   "source": [
    "#Lalu ubah data diatas ke dalam bentuk list.\n",
    "data = [[45, 1, 3, 120, 302, 1, 0, 163, 1, 2.2, 2, 2, 1]]"
   ]
  },
  {
   "cell_type": "code",
   "execution_count": 140,
   "metadata": {},
   "outputs": [
    {
     "data": {
      "text/plain": [
       "array([1], dtype=int64)"
      ]
     },
     "execution_count": 140,
     "metadata": {},
     "output_type": "execute_result"
    }
   ],
   "source": [
    "#prediksi\n",
    "best_model.predict(data)"
   ]
  },
  {
   "cell_type": "markdown",
   "metadata": {},
   "source": [
    "- Hasil Prediksi didapatkan nilai 1 yang berarti bahwa pasien yang Cinta tangani tidak memiliki Heart Disease dan dapat dinyatakan sehat!"
   ]
  }
 ],
 "metadata": {
  "kernelspec": {
   "display_name": "Python 3",
   "language": "python",
   "name": "python3"
  },
  "language_info": {
   "codemirror_mode": {
    "name": "ipython",
    "version": 3
   },
   "file_extension": ".py",
   "mimetype": "text/x-python",
   "name": "python",
   "nbconvert_exporter": "python",
   "pygments_lexer": "ipython3",
   "version": "3.7.3"
  }
 },
 "nbformat": 4,
 "nbformat_minor": 2
}
